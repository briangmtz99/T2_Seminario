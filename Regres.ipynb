{
  "cells": [
    {
      "cell_type": "raw",
      "metadata": {
        "id": "mFivtHu9DIqu"
      },
      "source": [
        "Problema1:\n",
        "El objetivo de las bases es que realicemos un modelo de clasificación para poder contestar la siguiente pregunta:\n",
        "\n",
        "      ¿Damos un crédito bancario o no?\n",
        "\n",
        "Para empezar con la exploración de la base, tendrán que generar un análisis descriptivo de la información que les compartiré:\n",
        " 1.- Los campos _id_ que son los identificadores de la información.\n",
        " 2.- base_ini_interna\n",
        " 3.- base_ini_parte1\n",
        " 4.- base_ini_externa\n",
        " 5.- bases de comportamiento\n",
        " 6.- base_inversión, es una variable simulada de una gamma, es\n",
        " 7.- Cuando una variable es categórica, está implícito en el nombre de la base. No tenemos un diccionario, simplemente que son categóricas.\n",
        " 8.- El resto entonces son continuas. Es decir, los nombre estám enmascarados, ni siquiera yo sé qué significan.\n",
        " \n",
        "\n",
        "¿Cómo hago los cruces? Exploren la información.\n",
        "¿Qué análisis puedo realizar? Exploren ustedes, apóyense de los comportamientos de los ids.\n",
        "Pero... ¿Las preguntas son abiertas? Así es, quiero que exploren. Hay bases que vienen en csv y otras en txt. Vean como tratarlas.\n",
        "\n",
        "El resto de las tarea, son las preguntas que les dejé el dìa miércoles. Les coparto los programas que utilizamos.\n",
        "Pero resumo un poco:\n",
        "\n",
        "\n",
        "Problema 2:\n",
        "De la base data_schools sacar obtener el error estándar con Bootstrap de las variables de la base. \n",
        "Recordemos que tienen que simular N Muestras Boostrap con tamño n. Luego, el otro ejercicio es que lo hagan con n-1.\n",
        "\n",
        "Problema 3: Calcular el eror estándar de las betas del modelo lineal, les expliqué la idea de este problema."
      ]
    },
    {
      "cell_type": "code",
      "execution_count": null,
      "metadata": {
        "colab": {
          "base_uri": "https://localhost:8080/",
          "height": 563
        },
        "id": "sQW4w5zJDIqw",
        "outputId": "3d7f37e9-ae43-4e28-a366-8190bbd615c3"
      },
      "outputs": [
        {
          "output_type": "stream",
          "name": "stdout",
          "text": [
            "79.0\n",
            "24.0\n",
            "861.8213157138754\n",
            "0.0002872737719046251\n",
            "159.0\n",
            "-609.0\n",
            "[-2.30000000e+02  9.99999977e+09 -2.29000000e+02 -2.28000000e+02\n",
            " -2.27000000e+02 -2.26000000e+02]\n"
          ]
        },
        {
          "output_type": "execute_result",
          "data": {
            "text/html": [
              "\n",
              "  <div id=\"df-baf7a7ff-2a10-419d-ada6-c27abcc6253b\">\n",
              "    <div class=\"colab-df-container\">\n",
              "      <div>\n",
              "<style scoped>\n",
              "    .dataframe tbody tr th:only-of-type {\n",
              "        vertical-align: middle;\n",
              "    }\n",
              "\n",
              "    .dataframe tbody tr th {\n",
              "        vertical-align: top;\n",
              "    }\n",
              "\n",
              "    .dataframe thead th {\n",
              "        text-align: right;\n",
              "    }\n",
              "</style>\n",
              "<table border=\"1\" class=\"dataframe\">\n",
              "  <thead>\n",
              "    <tr style=\"text-align: right;\">\n",
              "      <th></th>\n",
              "      <th>_id_</th>\n",
              "      <th>fecha_inicio</th>\n",
              "      <th>comp_interno1</th>\n",
              "      <th>comp_interno2</th>\n",
              "      <th>comp_interno3</th>\n",
              "      <th>comp_externo1</th>\n",
              "      <th>comp_externo2</th>\n",
              "      <th>comp_externo3</th>\n",
              "    </tr>\n",
              "  </thead>\n",
              "  <tbody>\n",
              "    <tr>\n",
              "      <th>0</th>\n",
              "      <td>78213</td>\n",
              "      <td>2020-03-25</td>\n",
              "      <td>0.000000</td>\n",
              "      <td>b'0'</td>\n",
              "      <td>11.0</td>\n",
              "      <td>260.869565</td>\n",
              "      <td>25.854639</td>\n",
              "      <td>56.0</td>\n",
              "    </tr>\n",
              "    <tr>\n",
              "      <th>1</th>\n",
              "      <td>76457</td>\n",
              "      <td>2020-02-13</td>\n",
              "      <td>0.000000</td>\n",
              "      <td>b'1'</td>\n",
              "      <td>28.0</td>\n",
              "      <td>40.579710</td>\n",
              "      <td>2.872738</td>\n",
              "      <td>62.0</td>\n",
              "    </tr>\n",
              "    <tr>\n",
              "      <th>2</th>\n",
              "      <td>40666</td>\n",
              "      <td>2018-01-24</td>\n",
              "      <td>0.000000</td>\n",
              "      <td>b'1'</td>\n",
              "      <td>25.0</td>\n",
              "      <td>NaN</td>\n",
              "      <td>NaN</td>\n",
              "      <td>119.0</td>\n",
              "    </tr>\n",
              "    <tr>\n",
              "      <th>3</th>\n",
              "      <td>8329</td>\n",
              "      <td>2016-10-07</td>\n",
              "      <td>0.000000</td>\n",
              "      <td>b'1'</td>\n",
              "      <td>14.0</td>\n",
              "      <td>349.275362</td>\n",
              "      <td>34.616490</td>\n",
              "      <td>94.0</td>\n",
              "    </tr>\n",
              "    <tr>\n",
              "      <th>4</th>\n",
              "      <td>68389</td>\n",
              "      <td>2019-07-30</td>\n",
              "      <td>2026.342452</td>\n",
              "      <td>b'1'</td>\n",
              "      <td>1.0</td>\n",
              "      <td>276.811594</td>\n",
              "      <td>27.434645</td>\n",
              "      <td>125.0</td>\n",
              "    </tr>\n",
              "    <tr>\n",
              "      <th>...</th>\n",
              "      <td>...</td>\n",
              "      <td>...</td>\n",
              "      <td>...</td>\n",
              "      <td>...</td>\n",
              "      <td>...</td>\n",
              "      <td>...</td>\n",
              "      <td>...</td>\n",
              "      <td>...</td>\n",
              "    </tr>\n",
              "    <tr>\n",
              "      <th>49995</th>\n",
              "      <td>78795</td>\n",
              "      <td>2020-04-27</td>\n",
              "      <td>0.000000</td>\n",
              "      <td>b'1'</td>\n",
              "      <td>2.0</td>\n",
              "      <td>140.579710</td>\n",
              "      <td>13.932778</td>\n",
              "      <td>95.0</td>\n",
              "    </tr>\n",
              "    <tr>\n",
              "      <th>49996</th>\n",
              "      <td>9126</td>\n",
              "      <td>2016-08-10</td>\n",
              "      <td>1215.805471</td>\n",
              "      <td>b'1'</td>\n",
              "      <td>30.0</td>\n",
              "      <td>188.405797</td>\n",
              "      <td>9.652399</td>\n",
              "      <td>114.0</td>\n",
              "    </tr>\n",
              "    <tr>\n",
              "      <th>49997</th>\n",
              "      <td>44847</td>\n",
              "      <td>2018-09-17</td>\n",
              "      <td>0.000000</td>\n",
              "      <td>b'1'</td>\n",
              "      <td>3.0</td>\n",
              "      <td>434.782609</td>\n",
              "      <td>33.323758</td>\n",
              "      <td>124.0</td>\n",
              "    </tr>\n",
              "    <tr>\n",
              "      <th>49998</th>\n",
              "      <td>87200</td>\n",
              "      <td>2020-10-27</td>\n",
              "      <td>0.000000</td>\n",
              "      <td>b'1'</td>\n",
              "      <td>19.0</td>\n",
              "      <td>919.130435</td>\n",
              "      <td>57.454754</td>\n",
              "      <td>108.0</td>\n",
              "    </tr>\n",
              "    <tr>\n",
              "      <th>49999</th>\n",
              "      <td>55083</td>\n",
              "      <td>2019-05-06</td>\n",
              "      <td>1013.171226</td>\n",
              "      <td>b'0'</td>\n",
              "      <td>3.0</td>\n",
              "      <td>217.391304</td>\n",
              "      <td>18.385521</td>\n",
              "      <td>-40.0</td>\n",
              "    </tr>\n",
              "  </tbody>\n",
              "</table>\n",
              "<p>50000 rows × 8 columns</p>\n",
              "</div>\n",
              "      <button class=\"colab-df-convert\" onclick=\"convertToInteractive('df-baf7a7ff-2a10-419d-ada6-c27abcc6253b')\"\n",
              "              title=\"Convert this dataframe to an interactive table.\"\n",
              "              style=\"display:none;\">\n",
              "        \n",
              "  <svg xmlns=\"http://www.w3.org/2000/svg\" height=\"24px\"viewBox=\"0 0 24 24\"\n",
              "       width=\"24px\">\n",
              "    <path d=\"M0 0h24v24H0V0z\" fill=\"none\"/>\n",
              "    <path d=\"M18.56 5.44l.94 2.06.94-2.06 2.06-.94-2.06-.94-.94-2.06-.94 2.06-2.06.94zm-11 1L8.5 8.5l.94-2.06 2.06-.94-2.06-.94L8.5 2.5l-.94 2.06-2.06.94zm10 10l.94 2.06.94-2.06 2.06-.94-2.06-.94-.94-2.06-.94 2.06-2.06.94z\"/><path d=\"M17.41 7.96l-1.37-1.37c-.4-.4-.92-.59-1.43-.59-.52 0-1.04.2-1.43.59L10.3 9.45l-7.72 7.72c-.78.78-.78 2.05 0 2.83L4 21.41c.39.39.9.59 1.41.59.51 0 1.02-.2 1.41-.59l7.78-7.78 2.81-2.81c.8-.78.8-2.07 0-2.86zM5.41 20L4 18.59l7.72-7.72 1.47 1.35L5.41 20z\"/>\n",
              "  </svg>\n",
              "      </button>\n",
              "      \n",
              "  <style>\n",
              "    .colab-df-container {\n",
              "      display:flex;\n",
              "      flex-wrap:wrap;\n",
              "      gap: 12px;\n",
              "    }\n",
              "\n",
              "    .colab-df-convert {\n",
              "      background-color: #E8F0FE;\n",
              "      border: none;\n",
              "      border-radius: 50%;\n",
              "      cursor: pointer;\n",
              "      display: none;\n",
              "      fill: #1967D2;\n",
              "      height: 32px;\n",
              "      padding: 0 0 0 0;\n",
              "      width: 32px;\n",
              "    }\n",
              "\n",
              "    .colab-df-convert:hover {\n",
              "      background-color: #E2EBFA;\n",
              "      box-shadow: 0px 1px 2px rgba(60, 64, 67, 0.3), 0px 1px 3px 1px rgba(60, 64, 67, 0.15);\n",
              "      fill: #174EA6;\n",
              "    }\n",
              "\n",
              "    [theme=dark] .colab-df-convert {\n",
              "      background-color: #3B4455;\n",
              "      fill: #D2E3FC;\n",
              "    }\n",
              "\n",
              "    [theme=dark] .colab-df-convert:hover {\n",
              "      background-color: #434B5C;\n",
              "      box-shadow: 0px 1px 3px 1px rgba(0, 0, 0, 0.15);\n",
              "      filter: drop-shadow(0px 1px 2px rgba(0, 0, 0, 0.3));\n",
              "      fill: #FFFFFF;\n",
              "    }\n",
              "  </style>\n",
              "\n",
              "      <script>\n",
              "        const buttonEl =\n",
              "          document.querySelector('#df-baf7a7ff-2a10-419d-ada6-c27abcc6253b button.colab-df-convert');\n",
              "        buttonEl.style.display =\n",
              "          google.colab.kernel.accessAllowed ? 'block' : 'none';\n",
              "\n",
              "        async function convertToInteractive(key) {\n",
              "          const element = document.querySelector('#df-baf7a7ff-2a10-419d-ada6-c27abcc6253b');\n",
              "          const dataTable =\n",
              "            await google.colab.kernel.invokeFunction('convertToInteractive',\n",
              "                                                     [key], {});\n",
              "          if (!dataTable) return;\n",
              "\n",
              "          const docLinkHtml = 'Like what you see? Visit the ' +\n",
              "            '<a target=\"_blank\" href=https://colab.research.google.com/notebooks/data_table.ipynb>data table notebook</a>'\n",
              "            + ' to learn more about interactive tables.';\n",
              "          element.innerHTML = '';\n",
              "          dataTable['output_type'] = 'display_data';\n",
              "          await google.colab.output.renderOutput(dataTable, element);\n",
              "          const docLink = document.createElement('div');\n",
              "          docLink.innerHTML = docLinkHtml;\n",
              "          element.appendChild(docLink);\n",
              "        }\n",
              "      </script>\n",
              "    </div>\n",
              "  </div>\n",
              "  "
            ],
            "text/plain": [
              "        _id_ fecha_inicio  ...  comp_externo2 comp_externo3\n",
              "0      78213   2020-03-25  ...      25.854639          56.0\n",
              "1      76457   2020-02-13  ...       2.872738          62.0\n",
              "2      40666   2018-01-24  ...            NaN         119.0\n",
              "3       8329   2016-10-07  ...      34.616490          94.0\n",
              "4      68389   2019-07-30  ...      27.434645         125.0\n",
              "...      ...          ...  ...            ...           ...\n",
              "49995  78795   2020-04-27  ...      13.932778          95.0\n",
              "49996   9126   2016-08-10  ...       9.652399         114.0\n",
              "49997  44847   2018-09-17  ...      33.323758         124.0\n",
              "49998  87200   2020-10-27  ...      57.454754         108.0\n",
              "49999  55083   2019-05-06  ...      18.385521         -40.0\n",
              "\n",
              "[50000 rows x 8 columns]"
            ]
          },
          "metadata": {},
          "execution_count": 76
        }
      ],
      "source": [
        "import pandas as pd\n",
        "import numpy as np\n",
        "import os\n",
        "import csv\n",
        "from pylab import*\n",
        "import numpy as np\n",
        "import scipy.stats \n",
        "from scipy.special import gamma\n",
        "import seaborn as sns\n",
        "from scipy.stats import beta\n",
        "from scipy.stats import spearmanr\n",
        "\n",
        "#Ejercicio 1\n",
        "baseinterna = pd.read_csv(\"base_ini_interna.csv\")\n",
        "\n",
        "baseinterna\n",
        "\n",
        "\n",
        "# En la base interna tenemos 9 variables, con un total de 50,000, los cuales son clientes que solicitan un prestamo.Cada cliente cuenta con un ID UNICO.\n",
        "# con la fecha en la que solicta el prestamo. Contaos con 4 distintos componentes lo cuales son.\n",
        "#El comp_interno1 nos indica la cantidad de dinero que tiene dentro del banco.\n",
        "# El comp_interno2 es la caracteristica del prestamo que esta solicitando cada cliente.\n",
        "# El comp_interno3 nos indica el numero de adeudos que tiene el cliente.\n",
        "# El comp_interno 4 , podemos suponer que nos indica la edad del cliente por el rango en el que se encuntran los datos en el cual el minimo es de 24 anios \n",
        "# y el maximo de 79.\n",
        "# Categoria 1 podemos suponer que nos indica el rango de ingresos que tiene cada cliente.\n",
        "# Podemos suponer que categoria2 es el rango de estudios del cliente.\n",
        "#Por lo que podemos decir que las variables que no nos sirven son, comp_interno4 y todas las que son tipo categorico ya que no nos dan informacion suficiente \n",
        "# para poder decidir si se le otroga el prestamo.\n",
        "\n",
        "\n",
        "print(baseinterna[\"comp_interno4\"].max())\n",
        "print(baseinterna[\"comp_interno4\"].min())\n",
        "\n",
        "\n",
        "\n",
        "baseinterna= baseinterna.drop([\"comp_interno4\", \"categoria1\", \"categoria2\", \"categoria3\"],axis =1)\n",
        "baseinterna\n",
        "#se eliminan las variables con informacion deficiente\n",
        "\n",
        "\n",
        "baseexterna = pd.read_csv(\"base_ini_externa.txt\", sep=\" \")\n",
        "\n",
        "\n",
        "baseexterna \n",
        "\n",
        "\n",
        "\n",
        "#Convertimos base_ini_externa.txt en un dataframe \n",
        "# En esta tabla tenemos el ID de cada cliente que solicita un prestamo y cuatro distintos componentes externos:\n",
        "#comp_externo1 es el ingreso diario del cliente \n",
        "#comp_externo2 es la razon de ingresos y egresos del cliente \n",
        "#comp_externo 3 es la diferencia entre ingresos y egresos \n",
        "#comp_externo no aporta informacion relevante\n",
        "\n",
        "\n",
        "\n",
        "print(baseexterna[\"comp_externo2\"].max())\n",
        "print(baseexterna[\"comp_externo2\"].min())\n",
        "print(baseexterna[\"comp_externo3\"].max())\n",
        "print(baseexterna[\"comp_externo3\"].min())\n",
        "print(baseexterna[\"comp_externo4\"].unique())\n",
        "\n",
        "\n",
        "\n",
        "baseexterna= baseexterna.drop([\"comp_externo4\"],axis =1)\n",
        "baseexterna\n",
        "\n",
        "\n",
        "\n",
        "basecomp2 = pd.read_csv(\"base_comportamiento_2.txt\",sep=\" \")\n",
        "basecomp2\n",
        "#En esta tabla nos dan el registro de los clientes a los que se les dio el prestamo, mediantes los folios(num_caso) que se les asigno.\n",
        "#Mes_informacion nos representa las fechas en las que se realizaria el pago del prestamo.\n",
        "#Concluimos que no se elimina ninguna variable debido a que todas nos proporcinan informacion acerca delas personas que recibieron el prestamo. \n",
        "\n",
        "\n",
        "\n",
        "basecomp2_corr = basecomp2.groupby(['num_caso']).count()\n",
        "basecomp2_corr= basecomp2_corr.drop([\"mes_informacion\"], axis=1)\n",
        "basecomp2_corr\n",
        "\n",
        "\n",
        "\n",
        "basecomp3 = pd.read_csv(\"base_comportamiento_3.csv\")\n",
        "basecomp3\n",
        "#En esta base podemos notar que el comportamiento j nos dice el numero de pagos pendiente del cliente que ya recibio el prestamo, si en la base aparece un cero \n",
        "#quiere decir que no debe ningun pago, pero si en la base aparece 1,2,3,... quiere decir que debe esos pagos, si en la base aparece un cero despues\n",
        "# de un numero mayor o igual a uno quiere decir que ya liquido los pagos pendientes. Por lo que con base a esta informacion podriamos hacer una clasificaccion de los clientes\n",
        "# si el numero de veces que aparace un numero mayor o igual a 1 es cero, entonces podriamos calificar como un buen cliente ya que no tiene ningun adeudo, \n",
        "# y su calificacion ira bajando entre mas adeudos tenga\n",
        "\n",
        "\n",
        "\n",
        "basecomp3_cor = basecomp3[ basecomp3[\"comportamiento_j\"]>0]\n",
        "basecomp3_cor= basecomp3_cor.drop([\"mes_informacion\"], axis=1)\n",
        "basecomp3_corr= basecomp3_cor.groupby([\"num_caso\"]).count()\n",
        "basecomp3_corr\n",
        "\n",
        "\n",
        "\n",
        "basecompmixto = pd.read_csv(\"base_ini_parte1.csv\")\n",
        "\n",
        "\n",
        "\n",
        "basecompmixto\n",
        "# En esta tabla nos dan los dos ID's que le corresponden a cada cliente.\n",
        "#El comp_mixto1 es el indice entre el comp_interno1 y el comp_externo1\n",
        "# Al no tener informacion comp_mixto1 decidimos no ocupar dicha variable\n",
        "\n",
        "\n",
        "\n",
        "basecompmixto= basecompmixto.drop([\"comp_mixto1\"],axis =1)\n",
        "basecompmixto\n",
        "\n",
        "\n",
        "\n",
        "basecompint4 = pd.read_table(\"bd_inicio_parte1.txt\")\n",
        "\n",
        "\n",
        "\n",
        "basecompint4\n",
        "#podemos ver que tiene los mismo datos que la base interna, por lo que los datos que necesitamos los podemos obtener de esa tabla\n",
        "#por lo que no es necesario usar esta base \n",
        "\n",
        "\n",
        "\n",
        "baseinversion = pd.read_csv(\"base_inversion.txt\", sep=\" \")\n",
        "\n",
        "\n",
        "baseinversion\n",
        "\n",
        "\n",
        "#En esta tabla tenemos dos variables en la cual nos representa el id2 de cada cliente y su inversion en el banco presente\n",
        "\n",
        "\n",
        "cruce1 = pd.merge(baseinterna, baseexterna, how=\"inner\", on=[\"_id_\"])\n",
        "cruce1\n",
        "#En este cruce ya tenemos los comportaminetos internos y extrernos que les corresponden a cada cliente\n",
        "\n"
      ]
    },
    {
      "cell_type": "code",
      "source": [
        "cruce2= pd.merge(basecompmixto, cruce1, how=\"inner\", on=[\"_id_\"])\n",
        "cruce2"
      ],
      "metadata": {
        "colab": {
          "base_uri": "https://localhost:8080/",
          "height": 424
        },
        "id": "FNUF4ddy-wVU",
        "outputId": "d5984e1c-1f0d-4c93-d189-552aa5e5d799"
      },
      "execution_count": null,
      "outputs": [
        {
          "output_type": "execute_result",
          "data": {
            "text/html": [
              "\n",
              "  <div id=\"df-a3f27bf1-57f1-4626-9d93-565bee7b37b6\">\n",
              "    <div class=\"colab-df-container\">\n",
              "      <div>\n",
              "<style scoped>\n",
              "    .dataframe tbody tr th:only-of-type {\n",
              "        vertical-align: middle;\n",
              "    }\n",
              "\n",
              "    .dataframe tbody tr th {\n",
              "        vertical-align: top;\n",
              "    }\n",
              "\n",
              "    .dataframe thead th {\n",
              "        text-align: right;\n",
              "    }\n",
              "</style>\n",
              "<table border=\"1\" class=\"dataframe\">\n",
              "  <thead>\n",
              "    <tr style=\"text-align: right;\">\n",
              "      <th></th>\n",
              "      <th>_id_</th>\n",
              "      <th>_id2_</th>\n",
              "      <th>fecha_inicio</th>\n",
              "      <th>comp_interno1</th>\n",
              "      <th>comp_interno2</th>\n",
              "      <th>comp_interno3</th>\n",
              "      <th>comp_externo1</th>\n",
              "      <th>comp_externo2</th>\n",
              "      <th>comp_externo3</th>\n",
              "    </tr>\n",
              "  </thead>\n",
              "  <tbody>\n",
              "    <tr>\n",
              "      <th>0</th>\n",
              "      <td>78213</td>\n",
              "      <td>1798899</td>\n",
              "      <td>2020-03-25</td>\n",
              "      <td>0.000000</td>\n",
              "      <td>b'0'</td>\n",
              "      <td>11.0</td>\n",
              "      <td>260.869565</td>\n",
              "      <td>25.854639</td>\n",
              "      <td>56.0</td>\n",
              "    </tr>\n",
              "    <tr>\n",
              "      <th>1</th>\n",
              "      <td>76457</td>\n",
              "      <td>1758511</td>\n",
              "      <td>2020-02-13</td>\n",
              "      <td>0.000000</td>\n",
              "      <td>b'1'</td>\n",
              "      <td>28.0</td>\n",
              "      <td>40.579710</td>\n",
              "      <td>2.872738</td>\n",
              "      <td>62.0</td>\n",
              "    </tr>\n",
              "    <tr>\n",
              "      <th>2</th>\n",
              "      <td>40666</td>\n",
              "      <td>935318</td>\n",
              "      <td>2018-01-24</td>\n",
              "      <td>0.000000</td>\n",
              "      <td>b'1'</td>\n",
              "      <td>25.0</td>\n",
              "      <td>NaN</td>\n",
              "      <td>NaN</td>\n",
              "      <td>119.0</td>\n",
              "    </tr>\n",
              "    <tr>\n",
              "      <th>3</th>\n",
              "      <td>8329</td>\n",
              "      <td>191567</td>\n",
              "      <td>2016-10-07</td>\n",
              "      <td>0.000000</td>\n",
              "      <td>b'1'</td>\n",
              "      <td>14.0</td>\n",
              "      <td>349.275362</td>\n",
              "      <td>34.616490</td>\n",
              "      <td>94.0</td>\n",
              "    </tr>\n",
              "    <tr>\n",
              "      <th>4</th>\n",
              "      <td>68389</td>\n",
              "      <td>1572947</td>\n",
              "      <td>2019-07-30</td>\n",
              "      <td>2026.342452</td>\n",
              "      <td>b'1'</td>\n",
              "      <td>1.0</td>\n",
              "      <td>276.811594</td>\n",
              "      <td>27.434645</td>\n",
              "      <td>125.0</td>\n",
              "    </tr>\n",
              "    <tr>\n",
              "      <th>...</th>\n",
              "      <td>...</td>\n",
              "      <td>...</td>\n",
              "      <td>...</td>\n",
              "      <td>...</td>\n",
              "      <td>...</td>\n",
              "      <td>...</td>\n",
              "      <td>...</td>\n",
              "      <td>...</td>\n",
              "      <td>...</td>\n",
              "    </tr>\n",
              "    <tr>\n",
              "      <th>49995</th>\n",
              "      <td>78795</td>\n",
              "      <td>1812285</td>\n",
              "      <td>2020-04-27</td>\n",
              "      <td>0.000000</td>\n",
              "      <td>b'1'</td>\n",
              "      <td>2.0</td>\n",
              "      <td>140.579710</td>\n",
              "      <td>13.932778</td>\n",
              "      <td>95.0</td>\n",
              "    </tr>\n",
              "    <tr>\n",
              "      <th>49996</th>\n",
              "      <td>9126</td>\n",
              "      <td>209898</td>\n",
              "      <td>2016-08-10</td>\n",
              "      <td>1215.805471</td>\n",
              "      <td>b'1'</td>\n",
              "      <td>30.0</td>\n",
              "      <td>188.405797</td>\n",
              "      <td>9.652399</td>\n",
              "      <td>114.0</td>\n",
              "    </tr>\n",
              "    <tr>\n",
              "      <th>49997</th>\n",
              "      <td>44847</td>\n",
              "      <td>1031481</td>\n",
              "      <td>2018-09-17</td>\n",
              "      <td>0.000000</td>\n",
              "      <td>b'1'</td>\n",
              "      <td>3.0</td>\n",
              "      <td>434.782609</td>\n",
              "      <td>33.323758</td>\n",
              "      <td>124.0</td>\n",
              "    </tr>\n",
              "    <tr>\n",
              "      <th>49998</th>\n",
              "      <td>87200</td>\n",
              "      <td>2005600</td>\n",
              "      <td>2020-10-27</td>\n",
              "      <td>0.000000</td>\n",
              "      <td>b'1'</td>\n",
              "      <td>19.0</td>\n",
              "      <td>919.130435</td>\n",
              "      <td>57.454754</td>\n",
              "      <td>108.0</td>\n",
              "    </tr>\n",
              "    <tr>\n",
              "      <th>49999</th>\n",
              "      <td>55083</td>\n",
              "      <td>1266909</td>\n",
              "      <td>2019-05-06</td>\n",
              "      <td>1013.171226</td>\n",
              "      <td>b'0'</td>\n",
              "      <td>3.0</td>\n",
              "      <td>217.391304</td>\n",
              "      <td>18.385521</td>\n",
              "      <td>-40.0</td>\n",
              "    </tr>\n",
              "  </tbody>\n",
              "</table>\n",
              "<p>50000 rows × 9 columns</p>\n",
              "</div>\n",
              "      <button class=\"colab-df-convert\" onclick=\"convertToInteractive('df-a3f27bf1-57f1-4626-9d93-565bee7b37b6')\"\n",
              "              title=\"Convert this dataframe to an interactive table.\"\n",
              "              style=\"display:none;\">\n",
              "        \n",
              "  <svg xmlns=\"http://www.w3.org/2000/svg\" height=\"24px\"viewBox=\"0 0 24 24\"\n",
              "       width=\"24px\">\n",
              "    <path d=\"M0 0h24v24H0V0z\" fill=\"none\"/>\n",
              "    <path d=\"M18.56 5.44l.94 2.06.94-2.06 2.06-.94-2.06-.94-.94-2.06-.94 2.06-2.06.94zm-11 1L8.5 8.5l.94-2.06 2.06-.94-2.06-.94L8.5 2.5l-.94 2.06-2.06.94zm10 10l.94 2.06.94-2.06 2.06-.94-2.06-.94-.94-2.06-.94 2.06-2.06.94z\"/><path d=\"M17.41 7.96l-1.37-1.37c-.4-.4-.92-.59-1.43-.59-.52 0-1.04.2-1.43.59L10.3 9.45l-7.72 7.72c-.78.78-.78 2.05 0 2.83L4 21.41c.39.39.9.59 1.41.59.51 0 1.02-.2 1.41-.59l7.78-7.78 2.81-2.81c.8-.78.8-2.07 0-2.86zM5.41 20L4 18.59l7.72-7.72 1.47 1.35L5.41 20z\"/>\n",
              "  </svg>\n",
              "      </button>\n",
              "      \n",
              "  <style>\n",
              "    .colab-df-container {\n",
              "      display:flex;\n",
              "      flex-wrap:wrap;\n",
              "      gap: 12px;\n",
              "    }\n",
              "\n",
              "    .colab-df-convert {\n",
              "      background-color: #E8F0FE;\n",
              "      border: none;\n",
              "      border-radius: 50%;\n",
              "      cursor: pointer;\n",
              "      display: none;\n",
              "      fill: #1967D2;\n",
              "      height: 32px;\n",
              "      padding: 0 0 0 0;\n",
              "      width: 32px;\n",
              "    }\n",
              "\n",
              "    .colab-df-convert:hover {\n",
              "      background-color: #E2EBFA;\n",
              "      box-shadow: 0px 1px 2px rgba(60, 64, 67, 0.3), 0px 1px 3px 1px rgba(60, 64, 67, 0.15);\n",
              "      fill: #174EA6;\n",
              "    }\n",
              "\n",
              "    [theme=dark] .colab-df-convert {\n",
              "      background-color: #3B4455;\n",
              "      fill: #D2E3FC;\n",
              "    }\n",
              "\n",
              "    [theme=dark] .colab-df-convert:hover {\n",
              "      background-color: #434B5C;\n",
              "      box-shadow: 0px 1px 3px 1px rgba(0, 0, 0, 0.15);\n",
              "      filter: drop-shadow(0px 1px 2px rgba(0, 0, 0, 0.3));\n",
              "      fill: #FFFFFF;\n",
              "    }\n",
              "  </style>\n",
              "\n",
              "      <script>\n",
              "        const buttonEl =\n",
              "          document.querySelector('#df-a3f27bf1-57f1-4626-9d93-565bee7b37b6 button.colab-df-convert');\n",
              "        buttonEl.style.display =\n",
              "          google.colab.kernel.accessAllowed ? 'block' : 'none';\n",
              "\n",
              "        async function convertToInteractive(key) {\n",
              "          const element = document.querySelector('#df-a3f27bf1-57f1-4626-9d93-565bee7b37b6');\n",
              "          const dataTable =\n",
              "            await google.colab.kernel.invokeFunction('convertToInteractive',\n",
              "                                                     [key], {});\n",
              "          if (!dataTable) return;\n",
              "\n",
              "          const docLinkHtml = 'Like what you see? Visit the ' +\n",
              "            '<a target=\"_blank\" href=https://colab.research.google.com/notebooks/data_table.ipynb>data table notebook</a>'\n",
              "            + ' to learn more about interactive tables.';\n",
              "          element.innerHTML = '';\n",
              "          dataTable['output_type'] = 'display_data';\n",
              "          await google.colab.output.renderOutput(dataTable, element);\n",
              "          const docLink = document.createElement('div');\n",
              "          docLink.innerHTML = docLinkHtml;\n",
              "          element.appendChild(docLink);\n",
              "        }\n",
              "      </script>\n",
              "    </div>\n",
              "  </div>\n",
              "  "
            ],
            "text/plain": [
              "        _id_    _id2_ fecha_inicio  ...  comp_externo1 comp_externo2  comp_externo3\n",
              "0      78213  1798899   2020-03-25  ...     260.869565     25.854639           56.0\n",
              "1      76457  1758511   2020-02-13  ...      40.579710      2.872738           62.0\n",
              "2      40666   935318   2018-01-24  ...            NaN           NaN          119.0\n",
              "3       8329   191567   2016-10-07  ...     349.275362     34.616490           94.0\n",
              "4      68389  1572947   2019-07-30  ...     276.811594     27.434645          125.0\n",
              "...      ...      ...          ...  ...            ...           ...            ...\n",
              "49995  78795  1812285   2020-04-27  ...     140.579710     13.932778           95.0\n",
              "49996   9126   209898   2016-08-10  ...     188.405797      9.652399          114.0\n",
              "49997  44847  1031481   2018-09-17  ...     434.782609     33.323758          124.0\n",
              "49998  87200  2005600   2020-10-27  ...     919.130435     57.454754          108.0\n",
              "49999  55083  1266909   2019-05-06  ...     217.391304     18.385521          -40.0\n",
              "\n",
              "[50000 rows x 9 columns]"
            ]
          },
          "metadata": {},
          "execution_count": 77
        }
      ]
    },
    {
      "cell_type": "code",
      "source": [
        "cruce3= pd.merge(cruce1, cruce2, how=\"outer\", on=[\"_id_\",\"fecha_inicio\",'comp_interno1','comp_interno2','comp_interno3','comp_externo1','comp_externo2','comp_externo3'])\n",
        "cruce3"
      ],
      "metadata": {
        "colab": {
          "base_uri": "https://localhost:8080/",
          "height": 424
        },
        "id": "ZJ-Z_yLS-zx-",
        "outputId": "cfc3dc4e-609c-4b66-f738-e7e0c2c94ac4"
      },
      "execution_count": null,
      "outputs": [
        {
          "output_type": "execute_result",
          "data": {
            "text/html": [
              "\n",
              "  <div id=\"df-37dfbfb2-7140-4536-a792-66aaf61d6ddd\">\n",
              "    <div class=\"colab-df-container\">\n",
              "      <div>\n",
              "<style scoped>\n",
              "    .dataframe tbody tr th:only-of-type {\n",
              "        vertical-align: middle;\n",
              "    }\n",
              "\n",
              "    .dataframe tbody tr th {\n",
              "        vertical-align: top;\n",
              "    }\n",
              "\n",
              "    .dataframe thead th {\n",
              "        text-align: right;\n",
              "    }\n",
              "</style>\n",
              "<table border=\"1\" class=\"dataframe\">\n",
              "  <thead>\n",
              "    <tr style=\"text-align: right;\">\n",
              "      <th></th>\n",
              "      <th>_id_</th>\n",
              "      <th>fecha_inicio</th>\n",
              "      <th>comp_interno1</th>\n",
              "      <th>comp_interno2</th>\n",
              "      <th>comp_interno3</th>\n",
              "      <th>comp_externo1</th>\n",
              "      <th>comp_externo2</th>\n",
              "      <th>comp_externo3</th>\n",
              "      <th>_id2_</th>\n",
              "    </tr>\n",
              "  </thead>\n",
              "  <tbody>\n",
              "    <tr>\n",
              "      <th>0</th>\n",
              "      <td>78213</td>\n",
              "      <td>2020-03-25</td>\n",
              "      <td>0.000000</td>\n",
              "      <td>b'0'</td>\n",
              "      <td>11.0</td>\n",
              "      <td>260.869565</td>\n",
              "      <td>25.854639</td>\n",
              "      <td>56.0</td>\n",
              "      <td>1798899</td>\n",
              "    </tr>\n",
              "    <tr>\n",
              "      <th>1</th>\n",
              "      <td>76457</td>\n",
              "      <td>2020-02-13</td>\n",
              "      <td>0.000000</td>\n",
              "      <td>b'1'</td>\n",
              "      <td>28.0</td>\n",
              "      <td>40.579710</td>\n",
              "      <td>2.872738</td>\n",
              "      <td>62.0</td>\n",
              "      <td>1758511</td>\n",
              "    </tr>\n",
              "    <tr>\n",
              "      <th>2</th>\n",
              "      <td>40666</td>\n",
              "      <td>2018-01-24</td>\n",
              "      <td>0.000000</td>\n",
              "      <td>b'1'</td>\n",
              "      <td>25.0</td>\n",
              "      <td>NaN</td>\n",
              "      <td>NaN</td>\n",
              "      <td>119.0</td>\n",
              "      <td>935318</td>\n",
              "    </tr>\n",
              "    <tr>\n",
              "      <th>3</th>\n",
              "      <td>8329</td>\n",
              "      <td>2016-10-07</td>\n",
              "      <td>0.000000</td>\n",
              "      <td>b'1'</td>\n",
              "      <td>14.0</td>\n",
              "      <td>349.275362</td>\n",
              "      <td>34.616490</td>\n",
              "      <td>94.0</td>\n",
              "      <td>191567</td>\n",
              "    </tr>\n",
              "    <tr>\n",
              "      <th>4</th>\n",
              "      <td>68389</td>\n",
              "      <td>2019-07-30</td>\n",
              "      <td>2026.342452</td>\n",
              "      <td>b'1'</td>\n",
              "      <td>1.0</td>\n",
              "      <td>276.811594</td>\n",
              "      <td>27.434645</td>\n",
              "      <td>125.0</td>\n",
              "      <td>1572947</td>\n",
              "    </tr>\n",
              "    <tr>\n",
              "      <th>...</th>\n",
              "      <td>...</td>\n",
              "      <td>...</td>\n",
              "      <td>...</td>\n",
              "      <td>...</td>\n",
              "      <td>...</td>\n",
              "      <td>...</td>\n",
              "      <td>...</td>\n",
              "      <td>...</td>\n",
              "      <td>...</td>\n",
              "    </tr>\n",
              "    <tr>\n",
              "      <th>49995</th>\n",
              "      <td>78795</td>\n",
              "      <td>2020-04-27</td>\n",
              "      <td>0.000000</td>\n",
              "      <td>b'1'</td>\n",
              "      <td>2.0</td>\n",
              "      <td>140.579710</td>\n",
              "      <td>13.932778</td>\n",
              "      <td>95.0</td>\n",
              "      <td>1812285</td>\n",
              "    </tr>\n",
              "    <tr>\n",
              "      <th>49996</th>\n",
              "      <td>9126</td>\n",
              "      <td>2016-08-10</td>\n",
              "      <td>1215.805471</td>\n",
              "      <td>b'1'</td>\n",
              "      <td>30.0</td>\n",
              "      <td>188.405797</td>\n",
              "      <td>9.652399</td>\n",
              "      <td>114.0</td>\n",
              "      <td>209898</td>\n",
              "    </tr>\n",
              "    <tr>\n",
              "      <th>49997</th>\n",
              "      <td>44847</td>\n",
              "      <td>2018-09-17</td>\n",
              "      <td>0.000000</td>\n",
              "      <td>b'1'</td>\n",
              "      <td>3.0</td>\n",
              "      <td>434.782609</td>\n",
              "      <td>33.323758</td>\n",
              "      <td>124.0</td>\n",
              "      <td>1031481</td>\n",
              "    </tr>\n",
              "    <tr>\n",
              "      <th>49998</th>\n",
              "      <td>87200</td>\n",
              "      <td>2020-10-27</td>\n",
              "      <td>0.000000</td>\n",
              "      <td>b'1'</td>\n",
              "      <td>19.0</td>\n",
              "      <td>919.130435</td>\n",
              "      <td>57.454754</td>\n",
              "      <td>108.0</td>\n",
              "      <td>2005600</td>\n",
              "    </tr>\n",
              "    <tr>\n",
              "      <th>49999</th>\n",
              "      <td>55083</td>\n",
              "      <td>2019-05-06</td>\n",
              "      <td>1013.171226</td>\n",
              "      <td>b'0'</td>\n",
              "      <td>3.0</td>\n",
              "      <td>217.391304</td>\n",
              "      <td>18.385521</td>\n",
              "      <td>-40.0</td>\n",
              "      <td>1266909</td>\n",
              "    </tr>\n",
              "  </tbody>\n",
              "</table>\n",
              "<p>50000 rows × 9 columns</p>\n",
              "</div>\n",
              "      <button class=\"colab-df-convert\" onclick=\"convertToInteractive('df-37dfbfb2-7140-4536-a792-66aaf61d6ddd')\"\n",
              "              title=\"Convert this dataframe to an interactive table.\"\n",
              "              style=\"display:none;\">\n",
              "        \n",
              "  <svg xmlns=\"http://www.w3.org/2000/svg\" height=\"24px\"viewBox=\"0 0 24 24\"\n",
              "       width=\"24px\">\n",
              "    <path d=\"M0 0h24v24H0V0z\" fill=\"none\"/>\n",
              "    <path d=\"M18.56 5.44l.94 2.06.94-2.06 2.06-.94-2.06-.94-.94-2.06-.94 2.06-2.06.94zm-11 1L8.5 8.5l.94-2.06 2.06-.94-2.06-.94L8.5 2.5l-.94 2.06-2.06.94zm10 10l.94 2.06.94-2.06 2.06-.94-2.06-.94-.94-2.06-.94 2.06-2.06.94z\"/><path d=\"M17.41 7.96l-1.37-1.37c-.4-.4-.92-.59-1.43-.59-.52 0-1.04.2-1.43.59L10.3 9.45l-7.72 7.72c-.78.78-.78 2.05 0 2.83L4 21.41c.39.39.9.59 1.41.59.51 0 1.02-.2 1.41-.59l7.78-7.78 2.81-2.81c.8-.78.8-2.07 0-2.86zM5.41 20L4 18.59l7.72-7.72 1.47 1.35L5.41 20z\"/>\n",
              "  </svg>\n",
              "      </button>\n",
              "      \n",
              "  <style>\n",
              "    .colab-df-container {\n",
              "      display:flex;\n",
              "      flex-wrap:wrap;\n",
              "      gap: 12px;\n",
              "    }\n",
              "\n",
              "    .colab-df-convert {\n",
              "      background-color: #E8F0FE;\n",
              "      border: none;\n",
              "      border-radius: 50%;\n",
              "      cursor: pointer;\n",
              "      display: none;\n",
              "      fill: #1967D2;\n",
              "      height: 32px;\n",
              "      padding: 0 0 0 0;\n",
              "      width: 32px;\n",
              "    }\n",
              "\n",
              "    .colab-df-convert:hover {\n",
              "      background-color: #E2EBFA;\n",
              "      box-shadow: 0px 1px 2px rgba(60, 64, 67, 0.3), 0px 1px 3px 1px rgba(60, 64, 67, 0.15);\n",
              "      fill: #174EA6;\n",
              "    }\n",
              "\n",
              "    [theme=dark] .colab-df-convert {\n",
              "      background-color: #3B4455;\n",
              "      fill: #D2E3FC;\n",
              "    }\n",
              "\n",
              "    [theme=dark] .colab-df-convert:hover {\n",
              "      background-color: #434B5C;\n",
              "      box-shadow: 0px 1px 3px 1px rgba(0, 0, 0, 0.15);\n",
              "      filter: drop-shadow(0px 1px 2px rgba(0, 0, 0, 0.3));\n",
              "      fill: #FFFFFF;\n",
              "    }\n",
              "  </style>\n",
              "\n",
              "      <script>\n",
              "        const buttonEl =\n",
              "          document.querySelector('#df-37dfbfb2-7140-4536-a792-66aaf61d6ddd button.colab-df-convert');\n",
              "        buttonEl.style.display =\n",
              "          google.colab.kernel.accessAllowed ? 'block' : 'none';\n",
              "\n",
              "        async function convertToInteractive(key) {\n",
              "          const element = document.querySelector('#df-37dfbfb2-7140-4536-a792-66aaf61d6ddd');\n",
              "          const dataTable =\n",
              "            await google.colab.kernel.invokeFunction('convertToInteractive',\n",
              "                                                     [key], {});\n",
              "          if (!dataTable) return;\n",
              "\n",
              "          const docLinkHtml = 'Like what you see? Visit the ' +\n",
              "            '<a target=\"_blank\" href=https://colab.research.google.com/notebooks/data_table.ipynb>data table notebook</a>'\n",
              "            + ' to learn more about interactive tables.';\n",
              "          element.innerHTML = '';\n",
              "          dataTable['output_type'] = 'display_data';\n",
              "          await google.colab.output.renderOutput(dataTable, element);\n",
              "          const docLink = document.createElement('div');\n",
              "          docLink.innerHTML = docLinkHtml;\n",
              "          element.appendChild(docLink);\n",
              "        }\n",
              "      </script>\n",
              "    </div>\n",
              "  </div>\n",
              "  "
            ],
            "text/plain": [
              "        _id_ fecha_inicio  comp_interno1  ... comp_externo2  comp_externo3    _id2_\n",
              "0      78213   2020-03-25       0.000000  ...     25.854639           56.0  1798899\n",
              "1      76457   2020-02-13       0.000000  ...      2.872738           62.0  1758511\n",
              "2      40666   2018-01-24       0.000000  ...           NaN          119.0   935318\n",
              "3       8329   2016-10-07       0.000000  ...     34.616490           94.0   191567\n",
              "4      68389   2019-07-30    2026.342452  ...     27.434645          125.0  1572947\n",
              "...      ...          ...            ...  ...           ...            ...      ...\n",
              "49995  78795   2020-04-27       0.000000  ...     13.932778           95.0  1812285\n",
              "49996   9126   2016-08-10    1215.805471  ...      9.652399          114.0   209898\n",
              "49997  44847   2018-09-17       0.000000  ...     33.323758          124.0  1031481\n",
              "49998  87200   2020-10-27       0.000000  ...     57.454754          108.0  2005600\n",
              "49999  55083   2019-05-06    1013.171226  ...     18.385521          -40.0  1266909\n",
              "\n",
              "[50000 rows x 9 columns]"
            ]
          },
          "metadata": {},
          "execution_count": 78
        }
      ]
    },
    {
      "cell_type": "code",
      "source": [
        "cruce3[\"target\"] = cruce3.comp_interno2\n",
        "cruce3"
      ],
      "metadata": {
        "colab": {
          "base_uri": "https://localhost:8080/",
          "height": 424
        },
        "id": "vHqvOo3hKH_5",
        "outputId": "197db398-f614-49bc-aa92-30a259d9a3fd"
      },
      "execution_count": null,
      "outputs": [
        {
          "output_type": "execute_result",
          "data": {
            "text/html": [
              "\n",
              "  <div id=\"df-4b90eb74-0f00-4054-af10-22c5b0f430ad\">\n",
              "    <div class=\"colab-df-container\">\n",
              "      <div>\n",
              "<style scoped>\n",
              "    .dataframe tbody tr th:only-of-type {\n",
              "        vertical-align: middle;\n",
              "    }\n",
              "\n",
              "    .dataframe tbody tr th {\n",
              "        vertical-align: top;\n",
              "    }\n",
              "\n",
              "    .dataframe thead th {\n",
              "        text-align: right;\n",
              "    }\n",
              "</style>\n",
              "<table border=\"1\" class=\"dataframe\">\n",
              "  <thead>\n",
              "    <tr style=\"text-align: right;\">\n",
              "      <th></th>\n",
              "      <th>_id_</th>\n",
              "      <th>fecha_inicio</th>\n",
              "      <th>comp_interno1</th>\n",
              "      <th>comp_interno2</th>\n",
              "      <th>comp_interno3</th>\n",
              "      <th>comp_externo1</th>\n",
              "      <th>comp_externo2</th>\n",
              "      <th>comp_externo3</th>\n",
              "      <th>_id2_</th>\n",
              "      <th>target</th>\n",
              "    </tr>\n",
              "  </thead>\n",
              "  <tbody>\n",
              "    <tr>\n",
              "      <th>0</th>\n",
              "      <td>78213</td>\n",
              "      <td>2020-03-25</td>\n",
              "      <td>0.000000</td>\n",
              "      <td>b'0'</td>\n",
              "      <td>11.0</td>\n",
              "      <td>260.869565</td>\n",
              "      <td>25.854639</td>\n",
              "      <td>56.0</td>\n",
              "      <td>1798899</td>\n",
              "      <td>b'0'</td>\n",
              "    </tr>\n",
              "    <tr>\n",
              "      <th>1</th>\n",
              "      <td>76457</td>\n",
              "      <td>2020-02-13</td>\n",
              "      <td>0.000000</td>\n",
              "      <td>b'1'</td>\n",
              "      <td>28.0</td>\n",
              "      <td>40.579710</td>\n",
              "      <td>2.872738</td>\n",
              "      <td>62.0</td>\n",
              "      <td>1758511</td>\n",
              "      <td>b'1'</td>\n",
              "    </tr>\n",
              "    <tr>\n",
              "      <th>2</th>\n",
              "      <td>40666</td>\n",
              "      <td>2018-01-24</td>\n",
              "      <td>0.000000</td>\n",
              "      <td>b'1'</td>\n",
              "      <td>25.0</td>\n",
              "      <td>NaN</td>\n",
              "      <td>NaN</td>\n",
              "      <td>119.0</td>\n",
              "      <td>935318</td>\n",
              "      <td>b'1'</td>\n",
              "    </tr>\n",
              "    <tr>\n",
              "      <th>3</th>\n",
              "      <td>8329</td>\n",
              "      <td>2016-10-07</td>\n",
              "      <td>0.000000</td>\n",
              "      <td>b'1'</td>\n",
              "      <td>14.0</td>\n",
              "      <td>349.275362</td>\n",
              "      <td>34.616490</td>\n",
              "      <td>94.0</td>\n",
              "      <td>191567</td>\n",
              "      <td>b'1'</td>\n",
              "    </tr>\n",
              "    <tr>\n",
              "      <th>4</th>\n",
              "      <td>68389</td>\n",
              "      <td>2019-07-30</td>\n",
              "      <td>2026.342452</td>\n",
              "      <td>b'1'</td>\n",
              "      <td>1.0</td>\n",
              "      <td>276.811594</td>\n",
              "      <td>27.434645</td>\n",
              "      <td>125.0</td>\n",
              "      <td>1572947</td>\n",
              "      <td>b'1'</td>\n",
              "    </tr>\n",
              "    <tr>\n",
              "      <th>...</th>\n",
              "      <td>...</td>\n",
              "      <td>...</td>\n",
              "      <td>...</td>\n",
              "      <td>...</td>\n",
              "      <td>...</td>\n",
              "      <td>...</td>\n",
              "      <td>...</td>\n",
              "      <td>...</td>\n",
              "      <td>...</td>\n",
              "      <td>...</td>\n",
              "    </tr>\n",
              "    <tr>\n",
              "      <th>49995</th>\n",
              "      <td>78795</td>\n",
              "      <td>2020-04-27</td>\n",
              "      <td>0.000000</td>\n",
              "      <td>b'1'</td>\n",
              "      <td>2.0</td>\n",
              "      <td>140.579710</td>\n",
              "      <td>13.932778</td>\n",
              "      <td>95.0</td>\n",
              "      <td>1812285</td>\n",
              "      <td>b'1'</td>\n",
              "    </tr>\n",
              "    <tr>\n",
              "      <th>49996</th>\n",
              "      <td>9126</td>\n",
              "      <td>2016-08-10</td>\n",
              "      <td>1215.805471</td>\n",
              "      <td>b'1'</td>\n",
              "      <td>30.0</td>\n",
              "      <td>188.405797</td>\n",
              "      <td>9.652399</td>\n",
              "      <td>114.0</td>\n",
              "      <td>209898</td>\n",
              "      <td>b'1'</td>\n",
              "    </tr>\n",
              "    <tr>\n",
              "      <th>49997</th>\n",
              "      <td>44847</td>\n",
              "      <td>2018-09-17</td>\n",
              "      <td>0.000000</td>\n",
              "      <td>b'1'</td>\n",
              "      <td>3.0</td>\n",
              "      <td>434.782609</td>\n",
              "      <td>33.323758</td>\n",
              "      <td>124.0</td>\n",
              "      <td>1031481</td>\n",
              "      <td>b'1'</td>\n",
              "    </tr>\n",
              "    <tr>\n",
              "      <th>49998</th>\n",
              "      <td>87200</td>\n",
              "      <td>2020-10-27</td>\n",
              "      <td>0.000000</td>\n",
              "      <td>b'1'</td>\n",
              "      <td>19.0</td>\n",
              "      <td>919.130435</td>\n",
              "      <td>57.454754</td>\n",
              "      <td>108.0</td>\n",
              "      <td>2005600</td>\n",
              "      <td>b'1'</td>\n",
              "    </tr>\n",
              "    <tr>\n",
              "      <th>49999</th>\n",
              "      <td>55083</td>\n",
              "      <td>2019-05-06</td>\n",
              "      <td>1013.171226</td>\n",
              "      <td>b'0'</td>\n",
              "      <td>3.0</td>\n",
              "      <td>217.391304</td>\n",
              "      <td>18.385521</td>\n",
              "      <td>-40.0</td>\n",
              "      <td>1266909</td>\n",
              "      <td>b'0'</td>\n",
              "    </tr>\n",
              "  </tbody>\n",
              "</table>\n",
              "<p>50000 rows × 10 columns</p>\n",
              "</div>\n",
              "      <button class=\"colab-df-convert\" onclick=\"convertToInteractive('df-4b90eb74-0f00-4054-af10-22c5b0f430ad')\"\n",
              "              title=\"Convert this dataframe to an interactive table.\"\n",
              "              style=\"display:none;\">\n",
              "        \n",
              "  <svg xmlns=\"http://www.w3.org/2000/svg\" height=\"24px\"viewBox=\"0 0 24 24\"\n",
              "       width=\"24px\">\n",
              "    <path d=\"M0 0h24v24H0V0z\" fill=\"none\"/>\n",
              "    <path d=\"M18.56 5.44l.94 2.06.94-2.06 2.06-.94-2.06-.94-.94-2.06-.94 2.06-2.06.94zm-11 1L8.5 8.5l.94-2.06 2.06-.94-2.06-.94L8.5 2.5l-.94 2.06-2.06.94zm10 10l.94 2.06.94-2.06 2.06-.94-2.06-.94-.94-2.06-.94 2.06-2.06.94z\"/><path d=\"M17.41 7.96l-1.37-1.37c-.4-.4-.92-.59-1.43-.59-.52 0-1.04.2-1.43.59L10.3 9.45l-7.72 7.72c-.78.78-.78 2.05 0 2.83L4 21.41c.39.39.9.59 1.41.59.51 0 1.02-.2 1.41-.59l7.78-7.78 2.81-2.81c.8-.78.8-2.07 0-2.86zM5.41 20L4 18.59l7.72-7.72 1.47 1.35L5.41 20z\"/>\n",
              "  </svg>\n",
              "      </button>\n",
              "      \n",
              "  <style>\n",
              "    .colab-df-container {\n",
              "      display:flex;\n",
              "      flex-wrap:wrap;\n",
              "      gap: 12px;\n",
              "    }\n",
              "\n",
              "    .colab-df-convert {\n",
              "      background-color: #E8F0FE;\n",
              "      border: none;\n",
              "      border-radius: 50%;\n",
              "      cursor: pointer;\n",
              "      display: none;\n",
              "      fill: #1967D2;\n",
              "      height: 32px;\n",
              "      padding: 0 0 0 0;\n",
              "      width: 32px;\n",
              "    }\n",
              "\n",
              "    .colab-df-convert:hover {\n",
              "      background-color: #E2EBFA;\n",
              "      box-shadow: 0px 1px 2px rgba(60, 64, 67, 0.3), 0px 1px 3px 1px rgba(60, 64, 67, 0.15);\n",
              "      fill: #174EA6;\n",
              "    }\n",
              "\n",
              "    [theme=dark] .colab-df-convert {\n",
              "      background-color: #3B4455;\n",
              "      fill: #D2E3FC;\n",
              "    }\n",
              "\n",
              "    [theme=dark] .colab-df-convert:hover {\n",
              "      background-color: #434B5C;\n",
              "      box-shadow: 0px 1px 3px 1px rgba(0, 0, 0, 0.15);\n",
              "      filter: drop-shadow(0px 1px 2px rgba(0, 0, 0, 0.3));\n",
              "      fill: #FFFFFF;\n",
              "    }\n",
              "  </style>\n",
              "\n",
              "      <script>\n",
              "        const buttonEl =\n",
              "          document.querySelector('#df-4b90eb74-0f00-4054-af10-22c5b0f430ad button.colab-df-convert');\n",
              "        buttonEl.style.display =\n",
              "          google.colab.kernel.accessAllowed ? 'block' : 'none';\n",
              "\n",
              "        async function convertToInteractive(key) {\n",
              "          const element = document.querySelector('#df-4b90eb74-0f00-4054-af10-22c5b0f430ad');\n",
              "          const dataTable =\n",
              "            await google.colab.kernel.invokeFunction('convertToInteractive',\n",
              "                                                     [key], {});\n",
              "          if (!dataTable) return;\n",
              "\n",
              "          const docLinkHtml = 'Like what you see? Visit the ' +\n",
              "            '<a target=\"_blank\" href=https://colab.research.google.com/notebooks/data_table.ipynb>data table notebook</a>'\n",
              "            + ' to learn more about interactive tables.';\n",
              "          element.innerHTML = '';\n",
              "          dataTable['output_type'] = 'display_data';\n",
              "          await google.colab.output.renderOutput(dataTable, element);\n",
              "          const docLink = document.createElement('div');\n",
              "          docLink.innerHTML = docLinkHtml;\n",
              "          element.appendChild(docLink);\n",
              "        }\n",
              "      </script>\n",
              "    </div>\n",
              "  </div>\n",
              "  "
            ],
            "text/plain": [
              "        _id_ fecha_inicio  comp_interno1  ... comp_externo3    _id2_  target\n",
              "0      78213   2020-03-25       0.000000  ...          56.0  1798899    b'0'\n",
              "1      76457   2020-02-13       0.000000  ...          62.0  1758511    b'1'\n",
              "2      40666   2018-01-24       0.000000  ...         119.0   935318    b'1'\n",
              "3       8329   2016-10-07       0.000000  ...          94.0   191567    b'1'\n",
              "4      68389   2019-07-30    2026.342452  ...         125.0  1572947    b'1'\n",
              "...      ...          ...            ...  ...           ...      ...     ...\n",
              "49995  78795   2020-04-27       0.000000  ...          95.0  1812285    b'1'\n",
              "49996   9126   2016-08-10    1215.805471  ...         114.0   209898    b'1'\n",
              "49997  44847   2018-09-17       0.000000  ...         124.0  1031481    b'1'\n",
              "49998  87200   2020-10-27       0.000000  ...         108.0  2005600    b'1'\n",
              "49999  55083   2019-05-06    1013.171226  ...         -40.0  1266909    b'0'\n",
              "\n",
              "[50000 rows x 10 columns]"
            ]
          },
          "metadata": {},
          "execution_count": 79
        }
      ]
    },
    {
      "cell_type": "code",
      "source": [
        "\n",
        "cruce3.loc[cruce3.comp_interno2 == \"b'1'\",'target']= 1\n",
        "cruce3.loc[cruce3.comp_interno2 == \"b'0'\",'target']= 0\n"
      ],
      "metadata": {
        "id": "nRS2cxmabBVo"
      },
      "execution_count": null,
      "outputs": []
    },
    {
      "cell_type": "code",
      "source": [
        "cruce3 = cruce3.drop(['comp_interno2'], axis = 1)\n",
        "\n"
      ],
      "metadata": {
        "id": "59kusX0Tb7OI"
      },
      "execution_count": null,
      "outputs": []
    },
    {
      "cell_type": "code",
      "source": [
        "cruce3 = cruce3.drop(['fecha_inicio'], axis = 1)"
      ],
      "metadata": {
        "id": "8X2n24P7rMo1"
      },
      "execution_count": null,
      "outputs": []
    },
    {
      "cell_type": "code",
      "source": [
        "cruce3 = cruce3.drop(['_id2_'], axis = 1)"
      ],
      "metadata": {
        "id": "rtlbE-OfcCez",
        "colab": {
          "base_uri": "https://localhost:8080/",
          "height": 311
        },
        "outputId": "d8edc0a2-0602-4752-96ad-50c21fcb604d"
      },
      "execution_count": null,
      "outputs": [
        {
          "output_type": "error",
          "ename": "KeyError",
          "evalue": "ignored",
          "traceback": [
            "\u001b[0;31m---------------------------------------------------------------------------\u001b[0m",
            "\u001b[0;31mKeyError\u001b[0m                                  Traceback (most recent call last)",
            "\u001b[0;32m<ipython-input-84-597f83f7c842>\u001b[0m in \u001b[0;36m<module>\u001b[0;34m()\u001b[0m\n\u001b[0;32m----> 1\u001b[0;31m \u001b[0mcruce3\u001b[0m \u001b[0;34m=\u001b[0m \u001b[0mcruce3\u001b[0m\u001b[0;34m.\u001b[0m\u001b[0mdrop\u001b[0m\u001b[0;34m(\u001b[0m\u001b[0;34m[\u001b[0m\u001b[0;34m'_id2_'\u001b[0m\u001b[0;34m]\u001b[0m\u001b[0;34m,\u001b[0m \u001b[0maxis\u001b[0m \u001b[0;34m=\u001b[0m \u001b[0;36m1\u001b[0m\u001b[0;34m)\u001b[0m\u001b[0;34m\u001b[0m\u001b[0;34m\u001b[0m\u001b[0m\n\u001b[0m",
            "\u001b[0;32m/usr/local/lib/python3.7/dist-packages/pandas/core/frame.py\u001b[0m in \u001b[0;36mdrop\u001b[0;34m(self, labels, axis, index, columns, level, inplace, errors)\u001b[0m\n\u001b[1;32m   4172\u001b[0m             \u001b[0mlevel\u001b[0m\u001b[0;34m=\u001b[0m\u001b[0mlevel\u001b[0m\u001b[0;34m,\u001b[0m\u001b[0;34m\u001b[0m\u001b[0;34m\u001b[0m\u001b[0m\n\u001b[1;32m   4173\u001b[0m             \u001b[0minplace\u001b[0m\u001b[0;34m=\u001b[0m\u001b[0minplace\u001b[0m\u001b[0;34m,\u001b[0m\u001b[0;34m\u001b[0m\u001b[0;34m\u001b[0m\u001b[0m\n\u001b[0;32m-> 4174\u001b[0;31m             \u001b[0merrors\u001b[0m\u001b[0;34m=\u001b[0m\u001b[0merrors\u001b[0m\u001b[0;34m,\u001b[0m\u001b[0;34m\u001b[0m\u001b[0;34m\u001b[0m\u001b[0m\n\u001b[0m\u001b[1;32m   4175\u001b[0m         )\n\u001b[1;32m   4176\u001b[0m \u001b[0;34m\u001b[0m\u001b[0m\n",
            "\u001b[0;32m/usr/local/lib/python3.7/dist-packages/pandas/core/generic.py\u001b[0m in \u001b[0;36mdrop\u001b[0;34m(self, labels, axis, index, columns, level, inplace, errors)\u001b[0m\n\u001b[1;32m   3887\u001b[0m         \u001b[0;32mfor\u001b[0m \u001b[0maxis\u001b[0m\u001b[0;34m,\u001b[0m \u001b[0mlabels\u001b[0m \u001b[0;32min\u001b[0m \u001b[0maxes\u001b[0m\u001b[0;34m.\u001b[0m\u001b[0mitems\u001b[0m\u001b[0;34m(\u001b[0m\u001b[0;34m)\u001b[0m\u001b[0;34m:\u001b[0m\u001b[0;34m\u001b[0m\u001b[0;34m\u001b[0m\u001b[0m\n\u001b[1;32m   3888\u001b[0m             \u001b[0;32mif\u001b[0m \u001b[0mlabels\u001b[0m \u001b[0;32mis\u001b[0m \u001b[0;32mnot\u001b[0m \u001b[0;32mNone\u001b[0m\u001b[0;34m:\u001b[0m\u001b[0;34m\u001b[0m\u001b[0;34m\u001b[0m\u001b[0m\n\u001b[0;32m-> 3889\u001b[0;31m                 \u001b[0mobj\u001b[0m \u001b[0;34m=\u001b[0m \u001b[0mobj\u001b[0m\u001b[0;34m.\u001b[0m\u001b[0m_drop_axis\u001b[0m\u001b[0;34m(\u001b[0m\u001b[0mlabels\u001b[0m\u001b[0;34m,\u001b[0m \u001b[0maxis\u001b[0m\u001b[0;34m,\u001b[0m \u001b[0mlevel\u001b[0m\u001b[0;34m=\u001b[0m\u001b[0mlevel\u001b[0m\u001b[0;34m,\u001b[0m \u001b[0merrors\u001b[0m\u001b[0;34m=\u001b[0m\u001b[0merrors\u001b[0m\u001b[0;34m)\u001b[0m\u001b[0;34m\u001b[0m\u001b[0;34m\u001b[0m\u001b[0m\n\u001b[0m\u001b[1;32m   3890\u001b[0m \u001b[0;34m\u001b[0m\u001b[0m\n\u001b[1;32m   3891\u001b[0m         \u001b[0;32mif\u001b[0m \u001b[0minplace\u001b[0m\u001b[0;34m:\u001b[0m\u001b[0;34m\u001b[0m\u001b[0;34m\u001b[0m\u001b[0m\n",
            "\u001b[0;32m/usr/local/lib/python3.7/dist-packages/pandas/core/generic.py\u001b[0m in \u001b[0;36m_drop_axis\u001b[0;34m(self, labels, axis, level, errors)\u001b[0m\n\u001b[1;32m   3921\u001b[0m                 \u001b[0mnew_axis\u001b[0m \u001b[0;34m=\u001b[0m \u001b[0maxis\u001b[0m\u001b[0;34m.\u001b[0m\u001b[0mdrop\u001b[0m\u001b[0;34m(\u001b[0m\u001b[0mlabels\u001b[0m\u001b[0;34m,\u001b[0m \u001b[0mlevel\u001b[0m\u001b[0;34m=\u001b[0m\u001b[0mlevel\u001b[0m\u001b[0;34m,\u001b[0m \u001b[0merrors\u001b[0m\u001b[0;34m=\u001b[0m\u001b[0merrors\u001b[0m\u001b[0;34m)\u001b[0m\u001b[0;34m\u001b[0m\u001b[0;34m\u001b[0m\u001b[0m\n\u001b[1;32m   3922\u001b[0m             \u001b[0;32melse\u001b[0m\u001b[0;34m:\u001b[0m\u001b[0;34m\u001b[0m\u001b[0;34m\u001b[0m\u001b[0m\n\u001b[0;32m-> 3923\u001b[0;31m                 \u001b[0mnew_axis\u001b[0m \u001b[0;34m=\u001b[0m \u001b[0maxis\u001b[0m\u001b[0;34m.\u001b[0m\u001b[0mdrop\u001b[0m\u001b[0;34m(\u001b[0m\u001b[0mlabels\u001b[0m\u001b[0;34m,\u001b[0m \u001b[0merrors\u001b[0m\u001b[0;34m=\u001b[0m\u001b[0merrors\u001b[0m\u001b[0;34m)\u001b[0m\u001b[0;34m\u001b[0m\u001b[0;34m\u001b[0m\u001b[0m\n\u001b[0m\u001b[1;32m   3924\u001b[0m             \u001b[0mresult\u001b[0m \u001b[0;34m=\u001b[0m \u001b[0mself\u001b[0m\u001b[0;34m.\u001b[0m\u001b[0mreindex\u001b[0m\u001b[0;34m(\u001b[0m\u001b[0;34m**\u001b[0m\u001b[0;34m{\u001b[0m\u001b[0maxis_name\u001b[0m\u001b[0;34m:\u001b[0m \u001b[0mnew_axis\u001b[0m\u001b[0;34m}\u001b[0m\u001b[0;34m)\u001b[0m\u001b[0;34m\u001b[0m\u001b[0;34m\u001b[0m\u001b[0m\n\u001b[1;32m   3925\u001b[0m \u001b[0;34m\u001b[0m\u001b[0m\n",
            "\u001b[0;32m/usr/local/lib/python3.7/dist-packages/pandas/core/indexes/base.py\u001b[0m in \u001b[0;36mdrop\u001b[0;34m(self, labels, errors)\u001b[0m\n\u001b[1;32m   5285\u001b[0m         \u001b[0;32mif\u001b[0m \u001b[0mmask\u001b[0m\u001b[0;34m.\u001b[0m\u001b[0many\u001b[0m\u001b[0;34m(\u001b[0m\u001b[0;34m)\u001b[0m\u001b[0;34m:\u001b[0m\u001b[0;34m\u001b[0m\u001b[0;34m\u001b[0m\u001b[0m\n\u001b[1;32m   5286\u001b[0m             \u001b[0;32mif\u001b[0m \u001b[0merrors\u001b[0m \u001b[0;34m!=\u001b[0m \u001b[0;34m\"ignore\"\u001b[0m\u001b[0;34m:\u001b[0m\u001b[0;34m\u001b[0m\u001b[0;34m\u001b[0m\u001b[0m\n\u001b[0;32m-> 5287\u001b[0;31m                 \u001b[0;32mraise\u001b[0m \u001b[0mKeyError\u001b[0m\u001b[0;34m(\u001b[0m\u001b[0;34mf\"{labels[mask]} not found in axis\"\u001b[0m\u001b[0;34m)\u001b[0m\u001b[0;34m\u001b[0m\u001b[0;34m\u001b[0m\u001b[0m\n\u001b[0m\u001b[1;32m   5288\u001b[0m             \u001b[0mindexer\u001b[0m \u001b[0;34m=\u001b[0m \u001b[0mindexer\u001b[0m\u001b[0;34m[\u001b[0m\u001b[0;34m~\u001b[0m\u001b[0mmask\u001b[0m\u001b[0;34m]\u001b[0m\u001b[0;34m\u001b[0m\u001b[0;34m\u001b[0m\u001b[0m\n\u001b[1;32m   5289\u001b[0m         \u001b[0;32mreturn\u001b[0m \u001b[0mself\u001b[0m\u001b[0;34m.\u001b[0m\u001b[0mdelete\u001b[0m\u001b[0;34m(\u001b[0m\u001b[0mindexer\u001b[0m\u001b[0;34m)\u001b[0m\u001b[0;34m\u001b[0m\u001b[0;34m\u001b[0m\u001b[0m\n",
            "\u001b[0;31mKeyError\u001b[0m: \"['_id2_'] not found in axis\""
          ]
        }
      ]
    },
    {
      "cell_type": "code",
      "source": [
        "cruce3 = cruce3.drop(['_id_'], axis = 1)"
      ],
      "metadata": {
        "id": "8xewkQg-4rhB"
      },
      "execution_count": null,
      "outputs": []
    },
    {
      "cell_type": "code",
      "source": [
        "cruce3.target = pd.to_numeric(cruce3.target, errors='coerce')"
      ],
      "metadata": {
        "id": "thAkfbZF-t25"
      },
      "execution_count": null,
      "outputs": []
    },
    {
      "cell_type": "code",
      "source": [
        "bd = cruce3\n",
        "bd = pd.DataFrame(df)\n",
        "df.head()"
      ],
      "metadata": {
        "colab": {
          "base_uri": "https://localhost:8080/",
          "height": 206
        },
        "id": "8g0LZOZkc3ZH",
        "outputId": "3cd2699f-f70d-4005-c5f0-6657006696ab"
      },
      "execution_count": null,
      "outputs": [
        {
          "output_type": "execute_result",
          "data": {
            "text/html": [
              "\n",
              "  <div id=\"df-f87e4e29-2967-497e-857d-c6f8f0e80052\">\n",
              "    <div class=\"colab-df-container\">\n",
              "      <div>\n",
              "<style scoped>\n",
              "    .dataframe tbody tr th:only-of-type {\n",
              "        vertical-align: middle;\n",
              "    }\n",
              "\n",
              "    .dataframe tbody tr th {\n",
              "        vertical-align: top;\n",
              "    }\n",
              "\n",
              "    .dataframe thead th {\n",
              "        text-align: right;\n",
              "    }\n",
              "</style>\n",
              "<table border=\"1\" class=\"dataframe\">\n",
              "  <thead>\n",
              "    <tr style=\"text-align: right;\">\n",
              "      <th></th>\n",
              "      <th>comp_interno1</th>\n",
              "      <th>comp_interno3</th>\n",
              "      <th>comp_externo1</th>\n",
              "      <th>comp_externo2</th>\n",
              "      <th>comp_externo3</th>\n",
              "      <th>target</th>\n",
              "    </tr>\n",
              "  </thead>\n",
              "  <tbody>\n",
              "    <tr>\n",
              "      <th>0</th>\n",
              "      <td>0.000000</td>\n",
              "      <td>11.0</td>\n",
              "      <td>260.869565</td>\n",
              "      <td>25.854639</td>\n",
              "      <td>56.0</td>\n",
              "      <td>0</td>\n",
              "    </tr>\n",
              "    <tr>\n",
              "      <th>1</th>\n",
              "      <td>0.000000</td>\n",
              "      <td>28.0</td>\n",
              "      <td>40.579710</td>\n",
              "      <td>2.872738</td>\n",
              "      <td>62.0</td>\n",
              "      <td>1</td>\n",
              "    </tr>\n",
              "    <tr>\n",
              "      <th>2</th>\n",
              "      <td>0.000000</td>\n",
              "      <td>25.0</td>\n",
              "      <td>NaN</td>\n",
              "      <td>NaN</td>\n",
              "      <td>119.0</td>\n",
              "      <td>1</td>\n",
              "    </tr>\n",
              "    <tr>\n",
              "      <th>3</th>\n",
              "      <td>0.000000</td>\n",
              "      <td>14.0</td>\n",
              "      <td>349.275362</td>\n",
              "      <td>34.616490</td>\n",
              "      <td>94.0</td>\n",
              "      <td>1</td>\n",
              "    </tr>\n",
              "    <tr>\n",
              "      <th>4</th>\n",
              "      <td>2026.342452</td>\n",
              "      <td>1.0</td>\n",
              "      <td>276.811594</td>\n",
              "      <td>27.434645</td>\n",
              "      <td>125.0</td>\n",
              "      <td>1</td>\n",
              "    </tr>\n",
              "  </tbody>\n",
              "</table>\n",
              "</div>\n",
              "      <button class=\"colab-df-convert\" onclick=\"convertToInteractive('df-f87e4e29-2967-497e-857d-c6f8f0e80052')\"\n",
              "              title=\"Convert this dataframe to an interactive table.\"\n",
              "              style=\"display:none;\">\n",
              "        \n",
              "  <svg xmlns=\"http://www.w3.org/2000/svg\" height=\"24px\"viewBox=\"0 0 24 24\"\n",
              "       width=\"24px\">\n",
              "    <path d=\"M0 0h24v24H0V0z\" fill=\"none\"/>\n",
              "    <path d=\"M18.56 5.44l.94 2.06.94-2.06 2.06-.94-2.06-.94-.94-2.06-.94 2.06-2.06.94zm-11 1L8.5 8.5l.94-2.06 2.06-.94-2.06-.94L8.5 2.5l-.94 2.06-2.06.94zm10 10l.94 2.06.94-2.06 2.06-.94-2.06-.94-.94-2.06-.94 2.06-2.06.94z\"/><path d=\"M17.41 7.96l-1.37-1.37c-.4-.4-.92-.59-1.43-.59-.52 0-1.04.2-1.43.59L10.3 9.45l-7.72 7.72c-.78.78-.78 2.05 0 2.83L4 21.41c.39.39.9.59 1.41.59.51 0 1.02-.2 1.41-.59l7.78-7.78 2.81-2.81c.8-.78.8-2.07 0-2.86zM5.41 20L4 18.59l7.72-7.72 1.47 1.35L5.41 20z\"/>\n",
              "  </svg>\n",
              "      </button>\n",
              "      \n",
              "  <style>\n",
              "    .colab-df-container {\n",
              "      display:flex;\n",
              "      flex-wrap:wrap;\n",
              "      gap: 12px;\n",
              "    }\n",
              "\n",
              "    .colab-df-convert {\n",
              "      background-color: #E8F0FE;\n",
              "      border: none;\n",
              "      border-radius: 50%;\n",
              "      cursor: pointer;\n",
              "      display: none;\n",
              "      fill: #1967D2;\n",
              "      height: 32px;\n",
              "      padding: 0 0 0 0;\n",
              "      width: 32px;\n",
              "    }\n",
              "\n",
              "    .colab-df-convert:hover {\n",
              "      background-color: #E2EBFA;\n",
              "      box-shadow: 0px 1px 2px rgba(60, 64, 67, 0.3), 0px 1px 3px 1px rgba(60, 64, 67, 0.15);\n",
              "      fill: #174EA6;\n",
              "    }\n",
              "\n",
              "    [theme=dark] .colab-df-convert {\n",
              "      background-color: #3B4455;\n",
              "      fill: #D2E3FC;\n",
              "    }\n",
              "\n",
              "    [theme=dark] .colab-df-convert:hover {\n",
              "      background-color: #434B5C;\n",
              "      box-shadow: 0px 1px 3px 1px rgba(0, 0, 0, 0.15);\n",
              "      filter: drop-shadow(0px 1px 2px rgba(0, 0, 0, 0.3));\n",
              "      fill: #FFFFFF;\n",
              "    }\n",
              "  </style>\n",
              "\n",
              "      <script>\n",
              "        const buttonEl =\n",
              "          document.querySelector('#df-f87e4e29-2967-497e-857d-c6f8f0e80052 button.colab-df-convert');\n",
              "        buttonEl.style.display =\n",
              "          google.colab.kernel.accessAllowed ? 'block' : 'none';\n",
              "\n",
              "        async function convertToInteractive(key) {\n",
              "          const element = document.querySelector('#df-f87e4e29-2967-497e-857d-c6f8f0e80052');\n",
              "          const dataTable =\n",
              "            await google.colab.kernel.invokeFunction('convertToInteractive',\n",
              "                                                     [key], {});\n",
              "          if (!dataTable) return;\n",
              "\n",
              "          const docLinkHtml = 'Like what you see? Visit the ' +\n",
              "            '<a target=\"_blank\" href=https://colab.research.google.com/notebooks/data_table.ipynb>data table notebook</a>'\n",
              "            + ' to learn more about interactive tables.';\n",
              "          element.innerHTML = '';\n",
              "          dataTable['output_type'] = 'display_data';\n",
              "          await google.colab.output.renderOutput(dataTable, element);\n",
              "          const docLink = document.createElement('div');\n",
              "          docLink.innerHTML = docLinkHtml;\n",
              "          element.appendChild(docLink);\n",
              "        }\n",
              "      </script>\n",
              "    </div>\n",
              "  </div>\n",
              "  "
            ],
            "text/plain": [
              "   comp_interno1  comp_interno3  ...  comp_externo3  target\n",
              "0       0.000000           11.0  ...           56.0       0\n",
              "1       0.000000           28.0  ...           62.0       1\n",
              "2       0.000000           25.0  ...          119.0       1\n",
              "3       0.000000           14.0  ...           94.0       1\n",
              "4    2026.342452            1.0  ...          125.0       1\n",
              "\n",
              "[5 rows x 6 columns]"
            ]
          },
          "metadata": {},
          "execution_count": 87
        }
      ]
    },
    {
      "cell_type": "code",
      "source": [
        "#Hacemos validación y test\n",
        "X = bd.iloc[:,0:5].values\n",
        "y = bd.iloc[:,5].values"
      ],
      "metadata": {
        "id": "qokeirZkc1m1"
      },
      "execution_count": null,
      "outputs": []
    },
    {
      "cell_type": "code",
      "source": [
        "import pandas as pd\n",
        "from sklearn.model_selection import train_test_split \n",
        "from sklearn.linear_model import LogisticRegression\n",
        "from sklearn.metrics import roc_curve, auc\n",
        "from pylab import*\n",
        "import seaborn as sns"
      ],
      "metadata": {
        "id": "SYcu924Dj0qP"
      },
      "execution_count": null,
      "outputs": []
    },
    {
      "cell_type": "code",
      "source": [
        "!pip install optbinning"
      ],
      "metadata": {
        "id": "S1Nx-28kpIj2",
        "outputId": "bd48146e-a8e1-4580-8076-d5050933b7c9",
        "colab": {
          "base_uri": "https://localhost:8080/"
        }
      },
      "execution_count": null,
      "outputs": [
        {
          "output_type": "stream",
          "name": "stdout",
          "text": [
            "Requirement already satisfied: optbinning in /usr/local/lib/python3.7/dist-packages (0.13.0)\n",
            "Requirement already satisfied: scipy>=1.6.0 in /usr/local/lib/python3.7/dist-packages (from optbinning) (1.7.3)\n",
            "Requirement already satisfied: ropwr>=0.2.0 in /usr/local/lib/python3.7/dist-packages (from optbinning) (0.2.0)\n",
            "Requirement already satisfied: tdigest in /usr/local/lib/python3.7/dist-packages (from optbinning) (0.5.2.2)\n",
            "Requirement already satisfied: numpy>=1.16.1 in /usr/local/lib/python3.7/dist-packages (from optbinning) (1.19.5)\n",
            "Requirement already satisfied: ortools>=7.2 in /usr/local/lib/python3.7/dist-packages (from optbinning) (9.2.9972)\n",
            "Requirement already satisfied: matplotlib in /usr/local/lib/python3.7/dist-packages (from optbinning) (3.2.2)\n",
            "Requirement already satisfied: scikit-learn>=0.22.0 in /usr/local/lib/python3.7/dist-packages (from optbinning) (1.0.1)\n",
            "Requirement already satisfied: pandas in /usr/local/lib/python3.7/dist-packages (from optbinning) (1.1.5)\n",
            "Requirement already satisfied: pympler in /usr/local/lib/python3.7/dist-packages (from optbinning) (1.0.1)\n",
            "Requirement already satisfied: dill in /usr/local/lib/python3.7/dist-packages (from optbinning) (0.3.4)\n",
            "Requirement already satisfied: protobuf>=3.19.1 in /usr/local/lib/python3.7/dist-packages (from ortools>=7.2->optbinning) (3.19.1)\n",
            "Requirement already satisfied: absl-py>=0.13 in /usr/local/lib/python3.7/dist-packages (from ortools>=7.2->optbinning) (1.0.0)\n",
            "Requirement already satisfied: six in /usr/local/lib/python3.7/dist-packages (from absl-py>=0.13->ortools>=7.2->optbinning) (1.15.0)\n",
            "Requirement already satisfied: cvxpy>=1.0 in /usr/local/lib/python3.7/dist-packages (from ropwr>=0.2.0->optbinning) (1.0.31)\n",
            "Requirement already satisfied: multiprocess in /usr/local/lib/python3.7/dist-packages (from cvxpy>=1.0->ropwr>=0.2.0->optbinning) (0.70.12.2)\n",
            "Requirement already satisfied: scs>=1.1.3 in /usr/local/lib/python3.7/dist-packages (from cvxpy>=1.0->ropwr>=0.2.0->optbinning) (2.1.4)\n",
            "Requirement already satisfied: osqp>=0.4.1 in /usr/local/lib/python3.7/dist-packages (from cvxpy>=1.0->ropwr>=0.2.0->optbinning) (0.6.2.post0)\n",
            "Requirement already satisfied: ecos>=2 in /usr/local/lib/python3.7/dist-packages (from cvxpy>=1.0->ropwr>=0.2.0->optbinning) (2.0.7.post1)\n",
            "Requirement already satisfied: qdldl in /usr/local/lib/python3.7/dist-packages (from osqp>=0.4.1->cvxpy>=1.0->ropwr>=0.2.0->optbinning) (0.1.5.post0)\n",
            "Requirement already satisfied: joblib>=0.11 in /usr/local/lib/python3.7/dist-packages (from scikit-learn>=0.22.0->optbinning) (1.1.0)\n",
            "Requirement already satisfied: threadpoolctl>=2.0.0 in /usr/local/lib/python3.7/dist-packages (from scikit-learn>=0.22.0->optbinning) (3.0.0)\n",
            "Requirement already satisfied: kiwisolver>=1.0.1 in /usr/local/lib/python3.7/dist-packages (from matplotlib->optbinning) (1.3.2)\n",
            "Requirement already satisfied: python-dateutil>=2.1 in /usr/local/lib/python3.7/dist-packages (from matplotlib->optbinning) (2.8.2)\n",
            "Requirement already satisfied: pyparsing!=2.0.4,!=2.1.2,!=2.1.6,>=2.0.1 in /usr/local/lib/python3.7/dist-packages (from matplotlib->optbinning) (3.0.6)\n",
            "Requirement already satisfied: cycler>=0.10 in /usr/local/lib/python3.7/dist-packages (from matplotlib->optbinning) (0.11.0)\n",
            "Requirement already satisfied: pytz>=2017.2 in /usr/local/lib/python3.7/dist-packages (from pandas->optbinning) (2018.9)\n",
            "Requirement already satisfied: accumulation-tree in /usr/local/lib/python3.7/dist-packages (from tdigest->optbinning) (0.6.2)\n",
            "Requirement already satisfied: pyudorandom in /usr/local/lib/python3.7/dist-packages (from tdigest->optbinning) (1.0.0)\n"
          ]
        }
      ]
    },
    {
      "cell_type": "code",
      "source": [
        "from optbinning import OptimalBinning"
      ],
      "metadata": {
        "id": "n5Ks1BO5hCa8"
      },
      "execution_count": null,
      "outputs": []
    },
    {
      "cell_type": "code",
      "source": [
        "train, test = train_test_split(bd, test_size = 0.30, random_state = 100)"
      ],
      "metadata": {
        "id": "_UeNRLPKhDgV"
      },
      "execution_count": null,
      "outputs": []
    },
    {
      "cell_type": "code",
      "source": [
        "train.info()"
      ],
      "metadata": {
        "colab": {
          "base_uri": "https://localhost:8080/"
        },
        "id": "8EDaJYXSnApQ",
        "outputId": "0d555aa3-e782-4dd6-9fc8-db25a512d32e"
      },
      "execution_count": null,
      "outputs": [
        {
          "output_type": "stream",
          "name": "stdout",
          "text": [
            "<class 'pandas.core.frame.DataFrame'>\n",
            "Int64Index: 35000 entries, 48824 to 38408\n",
            "Data columns (total 6 columns):\n",
            " #   Column         Non-Null Count  Dtype  \n",
            "---  ------         --------------  -----  \n",
            " 0   comp_interno1  35000 non-null  float64\n",
            " 1   comp_interno3  35000 non-null  float64\n",
            " 2   comp_externo1  33462 non-null  float64\n",
            " 3   comp_externo2  31024 non-null  float64\n",
            " 4   comp_externo3  34997 non-null  float64\n",
            " 5   target         35000 non-null  int64  \n",
            "dtypes: float64(5), int64(1)\n",
            "memory usage: 1.9 MB\n"
          ]
        }
      ]
    },
    {
      "cell_type": "code",
      "source": [
        "test.info()"
      ],
      "metadata": {
        "colab": {
          "base_uri": "https://localhost:8080/"
        },
        "id": "wlvFDoTlnIAl",
        "outputId": "4e7c4ddc-3af3-4e56-a1f3-b56fa2a94133"
      },
      "execution_count": null,
      "outputs": [
        {
          "output_type": "stream",
          "name": "stdout",
          "text": [
            "<class 'pandas.core.frame.DataFrame'>\n",
            "Int64Index: 15000 entries, 4253 to 25776\n",
            "Data columns (total 6 columns):\n",
            " #   Column         Non-Null Count  Dtype  \n",
            "---  ------         --------------  -----  \n",
            " 0   comp_interno1  15000 non-null  float64\n",
            " 1   comp_interno3  15000 non-null  float64\n",
            " 2   comp_externo1  14369 non-null  float64\n",
            " 3   comp_externo2  13386 non-null  float64\n",
            " 4   comp_externo3  14997 non-null  float64\n",
            " 5   target         15000 non-null  int64  \n",
            "dtypes: float64(5), int64(1)\n",
            "memory usage: 820.3 KB\n"
          ]
        }
      ]
    },
    {
      "cell_type": "code",
      "source": [
        "y = train.target\n",
        "y"
      ],
      "metadata": {
        "id": "x7h5v-DmnOTc",
        "colab": {
          "base_uri": "https://localhost:8080/"
        },
        "outputId": "fc62ad58-fe46-4bf9-aefb-bcfff67a9509"
      },
      "execution_count": null,
      "outputs": [
        {
          "output_type": "execute_result",
          "data": {
            "text/plain": [
              "48824    1\n",
              "2704     1\n",
              "25631    1\n",
              "7285     1\n",
              "27346    1\n",
              "        ..\n",
              "16304    1\n",
              "79       1\n",
              "12119    0\n",
              "14147    1\n",
              "38408    0\n",
              "Name: target, Length: 35000, dtype: int64"
            ]
          },
          "metadata": {},
          "execution_count": 95
        }
      ]
    },
    {
      "cell_type": "code",
      "source": [
        "optb_id = OptimalBinning(name=\"_id_\", dtype=\"numerical\", solver=\"cp\")\n",
        "optb_comp_interno1 = OptimalBinning(name=\"comp_interno1\", dtype=\"numerical\", solver=\"cp\")\n",
        "optb_comp_interno3 = OptimalBinning(name=\"comp_interno3\", dtype=\"numerical\", solver=\"cp\")\n",
        "optb_comp_externo1 = OptimalBinning(name=\"comp_externo1\", dtype=\"numerical\", solver=\"cp\")\n",
        "optb_comp_externo2 = OptimalBinning(name=\"comp_externo2\", dtype=\"numerical\", solver=\"cp\")\n",
        "optb_comp_externo3 = OptimalBinning(name=\"comp_externo3\", dtype=\"numerical\", solver=\"cp\",)\n"
      ],
      "metadata": {
        "id": "Pr-cBkHWnh5B"
      },
      "execution_count": null,
      "outputs": []
    },
    {
      "cell_type": "code",
      "source": [
        "\n",
        "optb_comp_interno1.fit(train[\"comp_interno1\"].values, y)\n",
        "optb_comp_interno3.fit(train[\"comp_interno3\"].values, y)\n",
        "optb_comp_externo1.fit(train[\"comp_externo1\"].values, y)\n",
        "optb_comp_externo2.fit(train[\"comp_externo2\"].values, y)\n",
        "optb_comp_externo3.fit(train[\"comp_externo3\"].values, y)\n"
      ],
      "metadata": {
        "id": "wJ-t5pH3ofw1",
        "colab": {
          "base_uri": "https://localhost:8080/"
        },
        "outputId": "fb0a5346-6af2-4aca-af52-d2f74e0c087c"
      },
      "execution_count": null,
      "outputs": [
        {
          "output_type": "execute_result",
          "data": {
            "text/plain": [
              "OptimalBinning(name='comp_externo3')"
            ]
          },
          "metadata": {},
          "execution_count": 98
        }
      ]
    },
    {
      "cell_type": "code",
      "source": [
        "\n",
        "display(optb_comp_interno1.splits)\n",
        "display(optb_comp_interno3.splits)\n",
        "display(optb_comp_externo1.splits)\n",
        "display(optb_comp_externo2.splits)\n",
        "display(optb_comp_externo3.splits)\n"
      ],
      "metadata": {
        "colab": {
          "base_uri": "https://localhost:8080/",
          "height": 139
        },
        "id": "z9vCOb1Ku4bT",
        "outputId": "0a1f4609-8a47-4159-bab2-2bdb1da23199"
      },
      "execution_count": null,
      "outputs": [
        {
          "output_type": "display_data",
          "data": {
            "text/plain": [
              "array([ 498.98681641,  833.33334351, 2436.46411133, 4261.90478516])"
            ]
          },
          "metadata": {}
        },
        {
          "output_type": "display_data",
          "data": {
            "text/plain": [
              "array([ 1.5, 17.5, 20.5, 25.5])"
            ]
          },
          "metadata": {}
        },
        {
          "output_type": "display_data",
          "data": {
            "text/plain": [
              "array([ 89.85362244, 147.0289917 , 280.24638367, 367.95651245,\n",
              "       532.85507202, 705.94204712, 869.4203186 ])"
            ]
          },
          "metadata": {}
        },
        {
          "output_type": "display_data",
          "data": {
            "text/plain": [
              "array([19.54366589, 22.36426353, 27.78655529, 39.60370636, 57.65728188,\n",
              "       76.40045929])"
            ]
          },
          "metadata": {}
        },
        {
          "output_type": "display_data",
          "data": {
            "text/plain": [
              "array([-27.5])"
            ]
          },
          "metadata": {}
        }
      ]
    },
    {
      "cell_type": "code",
      "source": [
        "\n",
        "comp_interno1_table = optb_comp_interno1.binning_table\n",
        "comp_interno3_table = optb_comp_interno3.binning_table\n",
        "comp_externo1_table = optb_comp_externo1.binning_table\n",
        "comp_externo2_table = optb_comp_externo2.binning_table\n",
        "comp_externo3_table = optb_comp_externo3.binning_table\n"
      ],
      "metadata": {
        "id": "lgImF8L_sNil"
      },
      "execution_count": null,
      "outputs": []
    },
    {
      "cell_type": "code",
      "source": [
        "\n",
        "display(comp_interno1_table.build())\n",
        "display(comp_interno3_table.build())\n",
        "display(comp_externo1_table.build())\n",
        "display(comp_externo2_table.build())\n",
        "display(comp_externo3_table.build())\n"
      ],
      "metadata": {
        "id": "DaDMxADlsv0k",
        "colab": {
          "base_uri": "https://localhost:8080/",
          "height": 1000
        },
        "outputId": "87f76a54-b1bf-4ab1-b46b-c4337fd9c724"
      },
      "execution_count": null,
      "outputs": [
        {
          "output_type": "display_data",
          "data": {
            "text/html": [
              "\n",
              "  <div id=\"df-f989005b-15dc-4b14-91e7-ed7f0d331757\">\n",
              "    <div class=\"colab-df-container\">\n",
              "      <div>\n",
              "<style scoped>\n",
              "    .dataframe tbody tr th:only-of-type {\n",
              "        vertical-align: middle;\n",
              "    }\n",
              "\n",
              "    .dataframe tbody tr th {\n",
              "        vertical-align: top;\n",
              "    }\n",
              "\n",
              "    .dataframe thead th {\n",
              "        text-align: right;\n",
              "    }\n",
              "</style>\n",
              "<table border=\"1\" class=\"dataframe\">\n",
              "  <thead>\n",
              "    <tr style=\"text-align: right;\">\n",
              "      <th></th>\n",
              "      <th>Bin</th>\n",
              "      <th>Count</th>\n",
              "      <th>Count (%)</th>\n",
              "      <th>Non-event</th>\n",
              "      <th>Event</th>\n",
              "      <th>Event rate</th>\n",
              "      <th>WoE</th>\n",
              "      <th>IV</th>\n",
              "      <th>JS</th>\n",
              "    </tr>\n",
              "  </thead>\n",
              "  <tbody>\n",
              "    <tr>\n",
              "      <th>0</th>\n",
              "      <td>(-inf, 498.99)</td>\n",
              "      <td>23061</td>\n",
              "      <td>0.658886</td>\n",
              "      <td>7368</td>\n",
              "      <td>15693</td>\n",
              "      <td>0.680500</td>\n",
              "      <td>0.128793</td>\n",
              "      <td>0.011214</td>\n",
              "      <td>0.001401</td>\n",
              "    </tr>\n",
              "    <tr>\n",
              "      <th>1</th>\n",
              "      <td>[498.99, 833.33)</td>\n",
              "      <td>2181</td>\n",
              "      <td>0.062314</td>\n",
              "      <td>585</td>\n",
              "      <td>1596</td>\n",
              "      <td>0.731774</td>\n",
              "      <td>-0.118783</td>\n",
              "      <td>0.000857</td>\n",
              "      <td>0.000107</td>\n",
              "    </tr>\n",
              "    <tr>\n",
              "      <th>2</th>\n",
              "      <td>[833.33, 2436.46)</td>\n",
              "      <td>6029</td>\n",
              "      <td>0.172257</td>\n",
              "      <td>1476</td>\n",
              "      <td>4553</td>\n",
              "      <td>0.755183</td>\n",
              "      <td>-0.241589</td>\n",
              "      <td>0.009529</td>\n",
              "      <td>0.001188</td>\n",
              "    </tr>\n",
              "    <tr>\n",
              "      <th>3</th>\n",
              "      <td>[2436.46, 4261.90)</td>\n",
              "      <td>1973</td>\n",
              "      <td>0.056371</td>\n",
              "      <td>449</td>\n",
              "      <td>1524</td>\n",
              "      <td>0.772428</td>\n",
              "      <td>-0.33721</td>\n",
              "      <td>0.005938</td>\n",
              "      <td>0.000739</td>\n",
              "    </tr>\n",
              "    <tr>\n",
              "      <th>4</th>\n",
              "      <td>[4261.90, inf)</td>\n",
              "      <td>1756</td>\n",
              "      <td>0.050171</td>\n",
              "      <td>348</td>\n",
              "      <td>1408</td>\n",
              "      <td>0.801822</td>\n",
              "      <td>-0.512862</td>\n",
              "      <td>0.011695</td>\n",
              "      <td>0.001446</td>\n",
              "    </tr>\n",
              "    <tr>\n",
              "      <th>5</th>\n",
              "      <td>Special</td>\n",
              "      <td>0</td>\n",
              "      <td>0.000000</td>\n",
              "      <td>0</td>\n",
              "      <td>0</td>\n",
              "      <td>0.000000</td>\n",
              "      <td>0</td>\n",
              "      <td>0.000000</td>\n",
              "      <td>0.000000</td>\n",
              "    </tr>\n",
              "    <tr>\n",
              "      <th>6</th>\n",
              "      <td>Missing</td>\n",
              "      <td>0</td>\n",
              "      <td>0.000000</td>\n",
              "      <td>0</td>\n",
              "      <td>0</td>\n",
              "      <td>0.000000</td>\n",
              "      <td>0</td>\n",
              "      <td>0.000000</td>\n",
              "      <td>0.000000</td>\n",
              "    </tr>\n",
              "    <tr>\n",
              "      <th>Totals</th>\n",
              "      <td></td>\n",
              "      <td>35000</td>\n",
              "      <td>1.000000</td>\n",
              "      <td>10226</td>\n",
              "      <td>24774</td>\n",
              "      <td>0.707829</td>\n",
              "      <td></td>\n",
              "      <td>0.039233</td>\n",
              "      <td>0.004881</td>\n",
              "    </tr>\n",
              "  </tbody>\n",
              "</table>\n",
              "</div>\n",
              "      <button class=\"colab-df-convert\" onclick=\"convertToInteractive('df-f989005b-15dc-4b14-91e7-ed7f0d331757')\"\n",
              "              title=\"Convert this dataframe to an interactive table.\"\n",
              "              style=\"display:none;\">\n",
              "        \n",
              "  <svg xmlns=\"http://www.w3.org/2000/svg\" height=\"24px\"viewBox=\"0 0 24 24\"\n",
              "       width=\"24px\">\n",
              "    <path d=\"M0 0h24v24H0V0z\" fill=\"none\"/>\n",
              "    <path d=\"M18.56 5.44l.94 2.06.94-2.06 2.06-.94-2.06-.94-.94-2.06-.94 2.06-2.06.94zm-11 1L8.5 8.5l.94-2.06 2.06-.94-2.06-.94L8.5 2.5l-.94 2.06-2.06.94zm10 10l.94 2.06.94-2.06 2.06-.94-2.06-.94-.94-2.06-.94 2.06-2.06.94z\"/><path d=\"M17.41 7.96l-1.37-1.37c-.4-.4-.92-.59-1.43-.59-.52 0-1.04.2-1.43.59L10.3 9.45l-7.72 7.72c-.78.78-.78 2.05 0 2.83L4 21.41c.39.39.9.59 1.41.59.51 0 1.02-.2 1.41-.59l7.78-7.78 2.81-2.81c.8-.78.8-2.07 0-2.86zM5.41 20L4 18.59l7.72-7.72 1.47 1.35L5.41 20z\"/>\n",
              "  </svg>\n",
              "      </button>\n",
              "      \n",
              "  <style>\n",
              "    .colab-df-container {\n",
              "      display:flex;\n",
              "      flex-wrap:wrap;\n",
              "      gap: 12px;\n",
              "    }\n",
              "\n",
              "    .colab-df-convert {\n",
              "      background-color: #E8F0FE;\n",
              "      border: none;\n",
              "      border-radius: 50%;\n",
              "      cursor: pointer;\n",
              "      display: none;\n",
              "      fill: #1967D2;\n",
              "      height: 32px;\n",
              "      padding: 0 0 0 0;\n",
              "      width: 32px;\n",
              "    }\n",
              "\n",
              "    .colab-df-convert:hover {\n",
              "      background-color: #E2EBFA;\n",
              "      box-shadow: 0px 1px 2px rgba(60, 64, 67, 0.3), 0px 1px 3px 1px rgba(60, 64, 67, 0.15);\n",
              "      fill: #174EA6;\n",
              "    }\n",
              "\n",
              "    [theme=dark] .colab-df-convert {\n",
              "      background-color: #3B4455;\n",
              "      fill: #D2E3FC;\n",
              "    }\n",
              "\n",
              "    [theme=dark] .colab-df-convert:hover {\n",
              "      background-color: #434B5C;\n",
              "      box-shadow: 0px 1px 3px 1px rgba(0, 0, 0, 0.15);\n",
              "      filter: drop-shadow(0px 1px 2px rgba(0, 0, 0, 0.3));\n",
              "      fill: #FFFFFF;\n",
              "    }\n",
              "  </style>\n",
              "\n",
              "      <script>\n",
              "        const buttonEl =\n",
              "          document.querySelector('#df-f989005b-15dc-4b14-91e7-ed7f0d331757 button.colab-df-convert');\n",
              "        buttonEl.style.display =\n",
              "          google.colab.kernel.accessAllowed ? 'block' : 'none';\n",
              "\n",
              "        async function convertToInteractive(key) {\n",
              "          const element = document.querySelector('#df-f989005b-15dc-4b14-91e7-ed7f0d331757');\n",
              "          const dataTable =\n",
              "            await google.colab.kernel.invokeFunction('convertToInteractive',\n",
              "                                                     [key], {});\n",
              "          if (!dataTable) return;\n",
              "\n",
              "          const docLinkHtml = 'Like what you see? Visit the ' +\n",
              "            '<a target=\"_blank\" href=https://colab.research.google.com/notebooks/data_table.ipynb>data table notebook</a>'\n",
              "            + ' to learn more about interactive tables.';\n",
              "          element.innerHTML = '';\n",
              "          dataTable['output_type'] = 'display_data';\n",
              "          await google.colab.output.renderOutput(dataTable, element);\n",
              "          const docLink = document.createElement('div');\n",
              "          docLink.innerHTML = docLinkHtml;\n",
              "          element.appendChild(docLink);\n",
              "        }\n",
              "      </script>\n",
              "    </div>\n",
              "  </div>\n",
              "  "
            ],
            "text/plain": [
              "                       Bin  Count  Count (%)  ...       WoE        IV        JS\n",
              "0           (-inf, 498.99)  23061   0.658886  ...  0.128793  0.011214  0.001401\n",
              "1         [498.99, 833.33)   2181   0.062314  ... -0.118783  0.000857  0.000107\n",
              "2        [833.33, 2436.46)   6029   0.172257  ... -0.241589  0.009529  0.001188\n",
              "3       [2436.46, 4261.90)   1973   0.056371  ...  -0.33721  0.005938  0.000739\n",
              "4           [4261.90, inf)   1756   0.050171  ... -0.512862  0.011695  0.001446\n",
              "5                  Special      0   0.000000  ...         0  0.000000  0.000000\n",
              "6                  Missing      0   0.000000  ...         0  0.000000  0.000000\n",
              "Totals                      35000   1.000000  ...            0.039233  0.004881\n",
              "\n",
              "[8 rows x 9 columns]"
            ]
          },
          "metadata": {}
        },
        {
          "output_type": "display_data",
          "data": {
            "text/html": [
              "\n",
              "  <div id=\"df-02a8dc2f-d279-4142-bf40-38d5600d8462\">\n",
              "    <div class=\"colab-df-container\">\n",
              "      <div>\n",
              "<style scoped>\n",
              "    .dataframe tbody tr th:only-of-type {\n",
              "        vertical-align: middle;\n",
              "    }\n",
              "\n",
              "    .dataframe tbody tr th {\n",
              "        vertical-align: top;\n",
              "    }\n",
              "\n",
              "    .dataframe thead th {\n",
              "        text-align: right;\n",
              "    }\n",
              "</style>\n",
              "<table border=\"1\" class=\"dataframe\">\n",
              "  <thead>\n",
              "    <tr style=\"text-align: right;\">\n",
              "      <th></th>\n",
              "      <th>Bin</th>\n",
              "      <th>Count</th>\n",
              "      <th>Count (%)</th>\n",
              "      <th>Non-event</th>\n",
              "      <th>Event</th>\n",
              "      <th>Event rate</th>\n",
              "      <th>WoE</th>\n",
              "      <th>IV</th>\n",
              "      <th>JS</th>\n",
              "    </tr>\n",
              "  </thead>\n",
              "  <tbody>\n",
              "    <tr>\n",
              "      <th>0</th>\n",
              "      <td>(-inf, 1.50)</td>\n",
              "      <td>5047</td>\n",
              "      <td>0.144200</td>\n",
              "      <td>1960</td>\n",
              "      <td>3087</td>\n",
              "      <td>0.611650</td>\n",
              "      <td>0.430606</td>\n",
              "      <td>0.028877</td>\n",
              "      <td>0.003582</td>\n",
              "    </tr>\n",
              "    <tr>\n",
              "      <th>1</th>\n",
              "      <td>[1.50, 17.50)</td>\n",
              "      <td>15137</td>\n",
              "      <td>0.432486</td>\n",
              "      <td>4592</td>\n",
              "      <td>10545</td>\n",
              "      <td>0.696637</td>\n",
              "      <td>0.0535251</td>\n",
              "      <td>0.001253</td>\n",
              "      <td>0.000157</td>\n",
              "    </tr>\n",
              "    <tr>\n",
              "      <th>2</th>\n",
              "      <td>[17.50, 20.50)</td>\n",
              "      <td>5498</td>\n",
              "      <td>0.157086</td>\n",
              "      <td>1011</td>\n",
              "      <td>4487</td>\n",
              "      <td>0.816115</td>\n",
              "      <td>-0.605383</td>\n",
              "      <td>0.049794</td>\n",
              "      <td>0.006131</td>\n",
              "    </tr>\n",
              "    <tr>\n",
              "      <th>3</th>\n",
              "      <td>[20.50, 25.50)</td>\n",
              "      <td>5649</td>\n",
              "      <td>0.161400</td>\n",
              "      <td>1531</td>\n",
              "      <td>4118</td>\n",
              "      <td>0.728979</td>\n",
              "      <td>-0.104585</td>\n",
              "      <td>0.001726</td>\n",
              "      <td>0.000216</td>\n",
              "    </tr>\n",
              "    <tr>\n",
              "      <th>4</th>\n",
              "      <td>[25.50, inf)</td>\n",
              "      <td>3669</td>\n",
              "      <td>0.104829</td>\n",
              "      <td>1132</td>\n",
              "      <td>2537</td>\n",
              "      <td>0.691469</td>\n",
              "      <td>0.0778649</td>\n",
              "      <td>0.000646</td>\n",
              "      <td>0.000081</td>\n",
              "    </tr>\n",
              "    <tr>\n",
              "      <th>5</th>\n",
              "      <td>Special</td>\n",
              "      <td>0</td>\n",
              "      <td>0.000000</td>\n",
              "      <td>0</td>\n",
              "      <td>0</td>\n",
              "      <td>0.000000</td>\n",
              "      <td>0</td>\n",
              "      <td>0.000000</td>\n",
              "      <td>0.000000</td>\n",
              "    </tr>\n",
              "    <tr>\n",
              "      <th>6</th>\n",
              "      <td>Missing</td>\n",
              "      <td>0</td>\n",
              "      <td>0.000000</td>\n",
              "      <td>0</td>\n",
              "      <td>0</td>\n",
              "      <td>0.000000</td>\n",
              "      <td>0</td>\n",
              "      <td>0.000000</td>\n",
              "      <td>0.000000</td>\n",
              "    </tr>\n",
              "    <tr>\n",
              "      <th>Totals</th>\n",
              "      <td></td>\n",
              "      <td>35000</td>\n",
              "      <td>1.000000</td>\n",
              "      <td>10226</td>\n",
              "      <td>24774</td>\n",
              "      <td>0.707829</td>\n",
              "      <td></td>\n",
              "      <td>0.082296</td>\n",
              "      <td>0.010166</td>\n",
              "    </tr>\n",
              "  </tbody>\n",
              "</table>\n",
              "</div>\n",
              "      <button class=\"colab-df-convert\" onclick=\"convertToInteractive('df-02a8dc2f-d279-4142-bf40-38d5600d8462')\"\n",
              "              title=\"Convert this dataframe to an interactive table.\"\n",
              "              style=\"display:none;\">\n",
              "        \n",
              "  <svg xmlns=\"http://www.w3.org/2000/svg\" height=\"24px\"viewBox=\"0 0 24 24\"\n",
              "       width=\"24px\">\n",
              "    <path d=\"M0 0h24v24H0V0z\" fill=\"none\"/>\n",
              "    <path d=\"M18.56 5.44l.94 2.06.94-2.06 2.06-.94-2.06-.94-.94-2.06-.94 2.06-2.06.94zm-11 1L8.5 8.5l.94-2.06 2.06-.94-2.06-.94L8.5 2.5l-.94 2.06-2.06.94zm10 10l.94 2.06.94-2.06 2.06-.94-2.06-.94-.94-2.06-.94 2.06-2.06.94z\"/><path d=\"M17.41 7.96l-1.37-1.37c-.4-.4-.92-.59-1.43-.59-.52 0-1.04.2-1.43.59L10.3 9.45l-7.72 7.72c-.78.78-.78 2.05 0 2.83L4 21.41c.39.39.9.59 1.41.59.51 0 1.02-.2 1.41-.59l7.78-7.78 2.81-2.81c.8-.78.8-2.07 0-2.86zM5.41 20L4 18.59l7.72-7.72 1.47 1.35L5.41 20z\"/>\n",
              "  </svg>\n",
              "      </button>\n",
              "      \n",
              "  <style>\n",
              "    .colab-df-container {\n",
              "      display:flex;\n",
              "      flex-wrap:wrap;\n",
              "      gap: 12px;\n",
              "    }\n",
              "\n",
              "    .colab-df-convert {\n",
              "      background-color: #E8F0FE;\n",
              "      border: none;\n",
              "      border-radius: 50%;\n",
              "      cursor: pointer;\n",
              "      display: none;\n",
              "      fill: #1967D2;\n",
              "      height: 32px;\n",
              "      padding: 0 0 0 0;\n",
              "      width: 32px;\n",
              "    }\n",
              "\n",
              "    .colab-df-convert:hover {\n",
              "      background-color: #E2EBFA;\n",
              "      box-shadow: 0px 1px 2px rgba(60, 64, 67, 0.3), 0px 1px 3px 1px rgba(60, 64, 67, 0.15);\n",
              "      fill: #174EA6;\n",
              "    }\n",
              "\n",
              "    [theme=dark] .colab-df-convert {\n",
              "      background-color: #3B4455;\n",
              "      fill: #D2E3FC;\n",
              "    }\n",
              "\n",
              "    [theme=dark] .colab-df-convert:hover {\n",
              "      background-color: #434B5C;\n",
              "      box-shadow: 0px 1px 3px 1px rgba(0, 0, 0, 0.15);\n",
              "      filter: drop-shadow(0px 1px 2px rgba(0, 0, 0, 0.3));\n",
              "      fill: #FFFFFF;\n",
              "    }\n",
              "  </style>\n",
              "\n",
              "      <script>\n",
              "        const buttonEl =\n",
              "          document.querySelector('#df-02a8dc2f-d279-4142-bf40-38d5600d8462 button.colab-df-convert');\n",
              "        buttonEl.style.display =\n",
              "          google.colab.kernel.accessAllowed ? 'block' : 'none';\n",
              "\n",
              "        async function convertToInteractive(key) {\n",
              "          const element = document.querySelector('#df-02a8dc2f-d279-4142-bf40-38d5600d8462');\n",
              "          const dataTable =\n",
              "            await google.colab.kernel.invokeFunction('convertToInteractive',\n",
              "                                                     [key], {});\n",
              "          if (!dataTable) return;\n",
              "\n",
              "          const docLinkHtml = 'Like what you see? Visit the ' +\n",
              "            '<a target=\"_blank\" href=https://colab.research.google.com/notebooks/data_table.ipynb>data table notebook</a>'\n",
              "            + ' to learn more about interactive tables.';\n",
              "          element.innerHTML = '';\n",
              "          dataTable['output_type'] = 'display_data';\n",
              "          await google.colab.output.renderOutput(dataTable, element);\n",
              "          const docLink = document.createElement('div');\n",
              "          docLink.innerHTML = docLinkHtml;\n",
              "          element.appendChild(docLink);\n",
              "        }\n",
              "      </script>\n",
              "    </div>\n",
              "  </div>\n",
              "  "
            ],
            "text/plain": [
              "                   Bin  Count  Count (%)  ...        WoE        IV        JS\n",
              "0         (-inf, 1.50)   5047   0.144200  ...   0.430606  0.028877  0.003582\n",
              "1        [1.50, 17.50)  15137   0.432486  ...  0.0535251  0.001253  0.000157\n",
              "2       [17.50, 20.50)   5498   0.157086  ...  -0.605383  0.049794  0.006131\n",
              "3       [20.50, 25.50)   5649   0.161400  ...  -0.104585  0.001726  0.000216\n",
              "4         [25.50, inf)   3669   0.104829  ...  0.0778649  0.000646  0.000081\n",
              "5              Special      0   0.000000  ...          0  0.000000  0.000000\n",
              "6              Missing      0   0.000000  ...          0  0.000000  0.000000\n",
              "Totals                  35000   1.000000  ...             0.082296  0.010166\n",
              "\n",
              "[8 rows x 9 columns]"
            ]
          },
          "metadata": {}
        },
        {
          "output_type": "display_data",
          "data": {
            "text/html": [
              "\n",
              "  <div id=\"df-bbb63d5b-f2cb-4cc1-a285-0bd618c12604\">\n",
              "    <div class=\"colab-df-container\">\n",
              "      <div>\n",
              "<style scoped>\n",
              "    .dataframe tbody tr th:only-of-type {\n",
              "        vertical-align: middle;\n",
              "    }\n",
              "\n",
              "    .dataframe tbody tr th {\n",
              "        vertical-align: top;\n",
              "    }\n",
              "\n",
              "    .dataframe thead th {\n",
              "        text-align: right;\n",
              "    }\n",
              "</style>\n",
              "<table border=\"1\" class=\"dataframe\">\n",
              "  <thead>\n",
              "    <tr style=\"text-align: right;\">\n",
              "      <th></th>\n",
              "      <th>Bin</th>\n",
              "      <th>Count</th>\n",
              "      <th>Count (%)</th>\n",
              "      <th>Non-event</th>\n",
              "      <th>Event</th>\n",
              "      <th>Event rate</th>\n",
              "      <th>WoE</th>\n",
              "      <th>IV</th>\n",
              "      <th>JS</th>\n",
              "    </tr>\n",
              "  </thead>\n",
              "  <tbody>\n",
              "    <tr>\n",
              "      <th>0</th>\n",
              "      <td>(-inf, 89.85)</td>\n",
              "      <td>5530</td>\n",
              "      <td>0.158000</td>\n",
              "      <td>1858</td>\n",
              "      <td>3672</td>\n",
              "      <td>0.664014</td>\n",
              "      <td>0.203625</td>\n",
              "      <td>0.006816</td>\n",
              "      <td>0.000851</td>\n",
              "    </tr>\n",
              "    <tr>\n",
              "      <th>1</th>\n",
              "      <td>[89.85, 147.03)</td>\n",
              "      <td>4593</td>\n",
              "      <td>0.131229</td>\n",
              "      <td>1442</td>\n",
              "      <td>3151</td>\n",
              "      <td>0.686044</td>\n",
              "      <td>0.103172</td>\n",
              "      <td>0.001426</td>\n",
              "      <td>0.000178</td>\n",
              "    </tr>\n",
              "    <tr>\n",
              "      <th>2</th>\n",
              "      <td>[147.03, 280.25)</td>\n",
              "      <td>7136</td>\n",
              "      <td>0.203886</td>\n",
              "      <td>2209</td>\n",
              "      <td>4927</td>\n",
              "      <td>0.690443</td>\n",
              "      <td>0.0826709</td>\n",
              "      <td>0.001417</td>\n",
              "      <td>0.000177</td>\n",
              "    </tr>\n",
              "    <tr>\n",
              "      <th>3</th>\n",
              "      <td>[280.25, 367.96)</td>\n",
              "      <td>3437</td>\n",
              "      <td>0.098200</td>\n",
              "      <td>988</td>\n",
              "      <td>2449</td>\n",
              "      <td>0.712540</td>\n",
              "      <td>-0.0228911</td>\n",
              "      <td>0.000051</td>\n",
              "      <td>0.000006</td>\n",
              "    </tr>\n",
              "    <tr>\n",
              "      <th>4</th>\n",
              "      <td>[367.96, 532.86)</td>\n",
              "      <td>4183</td>\n",
              "      <td>0.119514</td>\n",
              "      <td>1120</td>\n",
              "      <td>3063</td>\n",
              "      <td>0.732250</td>\n",
              "      <td>-0.121205</td>\n",
              "      <td>0.001711</td>\n",
              "      <td>0.000214</td>\n",
              "    </tr>\n",
              "    <tr>\n",
              "      <th>5</th>\n",
              "      <td>[532.86, 705.94)</td>\n",
              "      <td>2847</td>\n",
              "      <td>0.081343</td>\n",
              "      <td>758</td>\n",
              "      <td>2089</td>\n",
              "      <td>0.733755</td>\n",
              "      <td>-0.128896</td>\n",
              "      <td>0.001314</td>\n",
              "      <td>0.000164</td>\n",
              "    </tr>\n",
              "    <tr>\n",
              "      <th>6</th>\n",
              "      <td>[705.94, 869.42)</td>\n",
              "      <td>1759</td>\n",
              "      <td>0.050257</td>\n",
              "      <td>398</td>\n",
              "      <td>1361</td>\n",
              "      <td>0.773735</td>\n",
              "      <td>-0.344662</td>\n",
              "      <td>0.005520</td>\n",
              "      <td>0.000687</td>\n",
              "    </tr>\n",
              "    <tr>\n",
              "      <th>7</th>\n",
              "      <td>[869.42, inf)</td>\n",
              "      <td>3977</td>\n",
              "      <td>0.113629</td>\n",
              "      <td>854</td>\n",
              "      <td>3123</td>\n",
              "      <td>0.785265</td>\n",
              "      <td>-0.411757</td>\n",
              "      <td>0.017519</td>\n",
              "      <td>0.002175</td>\n",
              "    </tr>\n",
              "    <tr>\n",
              "      <th>8</th>\n",
              "      <td>Special</td>\n",
              "      <td>0</td>\n",
              "      <td>0.000000</td>\n",
              "      <td>0</td>\n",
              "      <td>0</td>\n",
              "      <td>0.000000</td>\n",
              "      <td>0</td>\n",
              "      <td>0.000000</td>\n",
              "      <td>0.000000</td>\n",
              "    </tr>\n",
              "    <tr>\n",
              "      <th>9</th>\n",
              "      <td>Missing</td>\n",
              "      <td>1538</td>\n",
              "      <td>0.043943</td>\n",
              "      <td>599</td>\n",
              "      <td>939</td>\n",
              "      <td>0.610533</td>\n",
              "      <td>0.435307</td>\n",
              "      <td>0.008999</td>\n",
              "      <td>0.001116</td>\n",
              "    </tr>\n",
              "    <tr>\n",
              "      <th>Totals</th>\n",
              "      <td></td>\n",
              "      <td>35000</td>\n",
              "      <td>1.000000</td>\n",
              "      <td>10226</td>\n",
              "      <td>24774</td>\n",
              "      <td>0.707829</td>\n",
              "      <td></td>\n",
              "      <td>0.044774</td>\n",
              "      <td>0.005567</td>\n",
              "    </tr>\n",
              "  </tbody>\n",
              "</table>\n",
              "</div>\n",
              "      <button class=\"colab-df-convert\" onclick=\"convertToInteractive('df-bbb63d5b-f2cb-4cc1-a285-0bd618c12604')\"\n",
              "              title=\"Convert this dataframe to an interactive table.\"\n",
              "              style=\"display:none;\">\n",
              "        \n",
              "  <svg xmlns=\"http://www.w3.org/2000/svg\" height=\"24px\"viewBox=\"0 0 24 24\"\n",
              "       width=\"24px\">\n",
              "    <path d=\"M0 0h24v24H0V0z\" fill=\"none\"/>\n",
              "    <path d=\"M18.56 5.44l.94 2.06.94-2.06 2.06-.94-2.06-.94-.94-2.06-.94 2.06-2.06.94zm-11 1L8.5 8.5l.94-2.06 2.06-.94-2.06-.94L8.5 2.5l-.94 2.06-2.06.94zm10 10l.94 2.06.94-2.06 2.06-.94-2.06-.94-.94-2.06-.94 2.06-2.06.94z\"/><path d=\"M17.41 7.96l-1.37-1.37c-.4-.4-.92-.59-1.43-.59-.52 0-1.04.2-1.43.59L10.3 9.45l-7.72 7.72c-.78.78-.78 2.05 0 2.83L4 21.41c.39.39.9.59 1.41.59.51 0 1.02-.2 1.41-.59l7.78-7.78 2.81-2.81c.8-.78.8-2.07 0-2.86zM5.41 20L4 18.59l7.72-7.72 1.47 1.35L5.41 20z\"/>\n",
              "  </svg>\n",
              "      </button>\n",
              "      \n",
              "  <style>\n",
              "    .colab-df-container {\n",
              "      display:flex;\n",
              "      flex-wrap:wrap;\n",
              "      gap: 12px;\n",
              "    }\n",
              "\n",
              "    .colab-df-convert {\n",
              "      background-color: #E8F0FE;\n",
              "      border: none;\n",
              "      border-radius: 50%;\n",
              "      cursor: pointer;\n",
              "      display: none;\n",
              "      fill: #1967D2;\n",
              "      height: 32px;\n",
              "      padding: 0 0 0 0;\n",
              "      width: 32px;\n",
              "    }\n",
              "\n",
              "    .colab-df-convert:hover {\n",
              "      background-color: #E2EBFA;\n",
              "      box-shadow: 0px 1px 2px rgba(60, 64, 67, 0.3), 0px 1px 3px 1px rgba(60, 64, 67, 0.15);\n",
              "      fill: #174EA6;\n",
              "    }\n",
              "\n",
              "    [theme=dark] .colab-df-convert {\n",
              "      background-color: #3B4455;\n",
              "      fill: #D2E3FC;\n",
              "    }\n",
              "\n",
              "    [theme=dark] .colab-df-convert:hover {\n",
              "      background-color: #434B5C;\n",
              "      box-shadow: 0px 1px 3px 1px rgba(0, 0, 0, 0.15);\n",
              "      filter: drop-shadow(0px 1px 2px rgba(0, 0, 0, 0.3));\n",
              "      fill: #FFFFFF;\n",
              "    }\n",
              "  </style>\n",
              "\n",
              "      <script>\n",
              "        const buttonEl =\n",
              "          document.querySelector('#df-bbb63d5b-f2cb-4cc1-a285-0bd618c12604 button.colab-df-convert');\n",
              "        buttonEl.style.display =\n",
              "          google.colab.kernel.accessAllowed ? 'block' : 'none';\n",
              "\n",
              "        async function convertToInteractive(key) {\n",
              "          const element = document.querySelector('#df-bbb63d5b-f2cb-4cc1-a285-0bd618c12604');\n",
              "          const dataTable =\n",
              "            await google.colab.kernel.invokeFunction('convertToInteractive',\n",
              "                                                     [key], {});\n",
              "          if (!dataTable) return;\n",
              "\n",
              "          const docLinkHtml = 'Like what you see? Visit the ' +\n",
              "            '<a target=\"_blank\" href=https://colab.research.google.com/notebooks/data_table.ipynb>data table notebook</a>'\n",
              "            + ' to learn more about interactive tables.';\n",
              "          element.innerHTML = '';\n",
              "          dataTable['output_type'] = 'display_data';\n",
              "          await google.colab.output.renderOutput(dataTable, element);\n",
              "          const docLink = document.createElement('div');\n",
              "          docLink.innerHTML = docLinkHtml;\n",
              "          element.appendChild(docLink);\n",
              "        }\n",
              "      </script>\n",
              "    </div>\n",
              "  </div>\n",
              "  "
            ],
            "text/plain": [
              "                     Bin  Count  Count (%)  ...        WoE        IV        JS\n",
              "0          (-inf, 89.85)   5530   0.158000  ...   0.203625  0.006816  0.000851\n",
              "1        [89.85, 147.03)   4593   0.131229  ...   0.103172  0.001426  0.000178\n",
              "2       [147.03, 280.25)   7136   0.203886  ...  0.0826709  0.001417  0.000177\n",
              "3       [280.25, 367.96)   3437   0.098200  ... -0.0228911  0.000051  0.000006\n",
              "4       [367.96, 532.86)   4183   0.119514  ...  -0.121205  0.001711  0.000214\n",
              "5       [532.86, 705.94)   2847   0.081343  ...  -0.128896  0.001314  0.000164\n",
              "6       [705.94, 869.42)   1759   0.050257  ...  -0.344662  0.005520  0.000687\n",
              "7          [869.42, inf)   3977   0.113629  ...  -0.411757  0.017519  0.002175\n",
              "8                Special      0   0.000000  ...          0  0.000000  0.000000\n",
              "9                Missing   1538   0.043943  ...   0.435307  0.008999  0.001116\n",
              "Totals                    35000   1.000000  ...             0.044774  0.005567\n",
              "\n",
              "[11 rows x 9 columns]"
            ]
          },
          "metadata": {}
        },
        {
          "output_type": "display_data",
          "data": {
            "text/html": [
              "\n",
              "  <div id=\"df-f356779e-4ef5-4fbc-80dd-d595ff3bf68e\">\n",
              "    <div class=\"colab-df-container\">\n",
              "      <div>\n",
              "<style scoped>\n",
              "    .dataframe tbody tr th:only-of-type {\n",
              "        vertical-align: middle;\n",
              "    }\n",
              "\n",
              "    .dataframe tbody tr th {\n",
              "        vertical-align: top;\n",
              "    }\n",
              "\n",
              "    .dataframe thead th {\n",
              "        text-align: right;\n",
              "    }\n",
              "</style>\n",
              "<table border=\"1\" class=\"dataframe\">\n",
              "  <thead>\n",
              "    <tr style=\"text-align: right;\">\n",
              "      <th></th>\n",
              "      <th>Bin</th>\n",
              "      <th>Count</th>\n",
              "      <th>Count (%)</th>\n",
              "      <th>Non-event</th>\n",
              "      <th>Event</th>\n",
              "      <th>Event rate</th>\n",
              "      <th>WoE</th>\n",
              "      <th>IV</th>\n",
              "      <th>JS</th>\n",
              "    </tr>\n",
              "  </thead>\n",
              "  <tbody>\n",
              "    <tr>\n",
              "      <th>0</th>\n",
              "      <td>(-inf, 19.54)</td>\n",
              "      <td>12859</td>\n",
              "      <td>0.367400</td>\n",
              "      <td>3878</td>\n",
              "      <td>8981</td>\n",
              "      <td>0.698421</td>\n",
              "      <td>0.0450695</td>\n",
              "      <td>0.000753</td>\n",
              "      <td>0.000094</td>\n",
              "    </tr>\n",
              "    <tr>\n",
              "      <th>1</th>\n",
              "      <td>[19.54, 22.36)</td>\n",
              "      <td>1830</td>\n",
              "      <td>0.052286</td>\n",
              "      <td>616</td>\n",
              "      <td>1214</td>\n",
              "      <td>0.663388</td>\n",
              "      <td>0.206432</td>\n",
              "      <td>0.002319</td>\n",
              "      <td>0.000289</td>\n",
              "    </tr>\n",
              "    <tr>\n",
              "      <th>2</th>\n",
              "      <td>[22.36, 27.79)</td>\n",
              "      <td>2339</td>\n",
              "      <td>0.066829</td>\n",
              "      <td>713</td>\n",
              "      <td>1626</td>\n",
              "      <td>0.695169</td>\n",
              "      <td>0.0604643</td>\n",
              "      <td>0.000247</td>\n",
              "      <td>0.000031</td>\n",
              "    </tr>\n",
              "    <tr>\n",
              "      <th>3</th>\n",
              "      <td>[27.79, 39.60)</td>\n",
              "      <td>3974</td>\n",
              "      <td>0.113543</td>\n",
              "      <td>1110</td>\n",
              "      <td>2864</td>\n",
              "      <td>0.720684</td>\n",
              "      <td>-0.062998</td>\n",
              "      <td>0.000445</td>\n",
              "      <td>0.000056</td>\n",
              "    </tr>\n",
              "    <tr>\n",
              "      <th>4</th>\n",
              "      <td>[39.60, 57.66)</td>\n",
              "      <td>3914</td>\n",
              "      <td>0.111829</td>\n",
              "      <td>1090</td>\n",
              "      <td>2824</td>\n",
              "      <td>0.721513</td>\n",
              "      <td>-0.0671154</td>\n",
              "      <td>0.000497</td>\n",
              "      <td>0.000062</td>\n",
              "    </tr>\n",
              "    <tr>\n",
              "      <th>5</th>\n",
              "      <td>[57.66, 76.40)</td>\n",
              "      <td>2168</td>\n",
              "      <td>0.061943</td>\n",
              "      <td>547</td>\n",
              "      <td>1621</td>\n",
              "      <td>0.747694</td>\n",
              "      <td>-0.201488</td>\n",
              "      <td>0.002406</td>\n",
              "      <td>0.000300</td>\n",
              "    </tr>\n",
              "    <tr>\n",
              "      <th>6</th>\n",
              "      <td>[76.40, inf)</td>\n",
              "      <td>3940</td>\n",
              "      <td>0.112571</td>\n",
              "      <td>907</td>\n",
              "      <td>3033</td>\n",
              "      <td>0.769797</td>\n",
              "      <td>-0.322304</td>\n",
              "      <td>0.010872</td>\n",
              "      <td>0.001353</td>\n",
              "    </tr>\n",
              "    <tr>\n",
              "      <th>7</th>\n",
              "      <td>Special</td>\n",
              "      <td>0</td>\n",
              "      <td>0.000000</td>\n",
              "      <td>0</td>\n",
              "      <td>0</td>\n",
              "      <td>0.000000</td>\n",
              "      <td>0</td>\n",
              "      <td>0.000000</td>\n",
              "      <td>0.000000</td>\n",
              "    </tr>\n",
              "    <tr>\n",
              "      <th>8</th>\n",
              "      <td>Missing</td>\n",
              "      <td>3976</td>\n",
              "      <td>0.113600</td>\n",
              "      <td>1365</td>\n",
              "      <td>2611</td>\n",
              "      <td>0.656690</td>\n",
              "      <td>0.236282</td>\n",
              "      <td>0.006637</td>\n",
              "      <td>0.000828</td>\n",
              "    </tr>\n",
              "    <tr>\n",
              "      <th>Totals</th>\n",
              "      <td></td>\n",
              "      <td>35000</td>\n",
              "      <td>1.000000</td>\n",
              "      <td>10226</td>\n",
              "      <td>24774</td>\n",
              "      <td>0.707829</td>\n",
              "      <td></td>\n",
              "      <td>0.024176</td>\n",
              "      <td>0.003013</td>\n",
              "    </tr>\n",
              "  </tbody>\n",
              "</table>\n",
              "</div>\n",
              "      <button class=\"colab-df-convert\" onclick=\"convertToInteractive('df-f356779e-4ef5-4fbc-80dd-d595ff3bf68e')\"\n",
              "              title=\"Convert this dataframe to an interactive table.\"\n",
              "              style=\"display:none;\">\n",
              "        \n",
              "  <svg xmlns=\"http://www.w3.org/2000/svg\" height=\"24px\"viewBox=\"0 0 24 24\"\n",
              "       width=\"24px\">\n",
              "    <path d=\"M0 0h24v24H0V0z\" fill=\"none\"/>\n",
              "    <path d=\"M18.56 5.44l.94 2.06.94-2.06 2.06-.94-2.06-.94-.94-2.06-.94 2.06-2.06.94zm-11 1L8.5 8.5l.94-2.06 2.06-.94-2.06-.94L8.5 2.5l-.94 2.06-2.06.94zm10 10l.94 2.06.94-2.06 2.06-.94-2.06-.94-.94-2.06-.94 2.06-2.06.94z\"/><path d=\"M17.41 7.96l-1.37-1.37c-.4-.4-.92-.59-1.43-.59-.52 0-1.04.2-1.43.59L10.3 9.45l-7.72 7.72c-.78.78-.78 2.05 0 2.83L4 21.41c.39.39.9.59 1.41.59.51 0 1.02-.2 1.41-.59l7.78-7.78 2.81-2.81c.8-.78.8-2.07 0-2.86zM5.41 20L4 18.59l7.72-7.72 1.47 1.35L5.41 20z\"/>\n",
              "  </svg>\n",
              "      </button>\n",
              "      \n",
              "  <style>\n",
              "    .colab-df-container {\n",
              "      display:flex;\n",
              "      flex-wrap:wrap;\n",
              "      gap: 12px;\n",
              "    }\n",
              "\n",
              "    .colab-df-convert {\n",
              "      background-color: #E8F0FE;\n",
              "      border: none;\n",
              "      border-radius: 50%;\n",
              "      cursor: pointer;\n",
              "      display: none;\n",
              "      fill: #1967D2;\n",
              "      height: 32px;\n",
              "      padding: 0 0 0 0;\n",
              "      width: 32px;\n",
              "    }\n",
              "\n",
              "    .colab-df-convert:hover {\n",
              "      background-color: #E2EBFA;\n",
              "      box-shadow: 0px 1px 2px rgba(60, 64, 67, 0.3), 0px 1px 3px 1px rgba(60, 64, 67, 0.15);\n",
              "      fill: #174EA6;\n",
              "    }\n",
              "\n",
              "    [theme=dark] .colab-df-convert {\n",
              "      background-color: #3B4455;\n",
              "      fill: #D2E3FC;\n",
              "    }\n",
              "\n",
              "    [theme=dark] .colab-df-convert:hover {\n",
              "      background-color: #434B5C;\n",
              "      box-shadow: 0px 1px 3px 1px rgba(0, 0, 0, 0.15);\n",
              "      filter: drop-shadow(0px 1px 2px rgba(0, 0, 0, 0.3));\n",
              "      fill: #FFFFFF;\n",
              "    }\n",
              "  </style>\n",
              "\n",
              "      <script>\n",
              "        const buttonEl =\n",
              "          document.querySelector('#df-f356779e-4ef5-4fbc-80dd-d595ff3bf68e button.colab-df-convert');\n",
              "        buttonEl.style.display =\n",
              "          google.colab.kernel.accessAllowed ? 'block' : 'none';\n",
              "\n",
              "        async function convertToInteractive(key) {\n",
              "          const element = document.querySelector('#df-f356779e-4ef5-4fbc-80dd-d595ff3bf68e');\n",
              "          const dataTable =\n",
              "            await google.colab.kernel.invokeFunction('convertToInteractive',\n",
              "                                                     [key], {});\n",
              "          if (!dataTable) return;\n",
              "\n",
              "          const docLinkHtml = 'Like what you see? Visit the ' +\n",
              "            '<a target=\"_blank\" href=https://colab.research.google.com/notebooks/data_table.ipynb>data table notebook</a>'\n",
              "            + ' to learn more about interactive tables.';\n",
              "          element.innerHTML = '';\n",
              "          dataTable['output_type'] = 'display_data';\n",
              "          await google.colab.output.renderOutput(dataTable, element);\n",
              "          const docLink = document.createElement('div');\n",
              "          docLink.innerHTML = docLinkHtml;\n",
              "          element.appendChild(docLink);\n",
              "        }\n",
              "      </script>\n",
              "    </div>\n",
              "  </div>\n",
              "  "
            ],
            "text/plain": [
              "                   Bin  Count  Count (%)  ...        WoE        IV        JS\n",
              "0        (-inf, 19.54)  12859   0.367400  ...  0.0450695  0.000753  0.000094\n",
              "1       [19.54, 22.36)   1830   0.052286  ...   0.206432  0.002319  0.000289\n",
              "2       [22.36, 27.79)   2339   0.066829  ...  0.0604643  0.000247  0.000031\n",
              "3       [27.79, 39.60)   3974   0.113543  ...  -0.062998  0.000445  0.000056\n",
              "4       [39.60, 57.66)   3914   0.111829  ... -0.0671154  0.000497  0.000062\n",
              "5       [57.66, 76.40)   2168   0.061943  ...  -0.201488  0.002406  0.000300\n",
              "6         [76.40, inf)   3940   0.112571  ...  -0.322304  0.010872  0.001353\n",
              "7              Special      0   0.000000  ...          0  0.000000  0.000000\n",
              "8              Missing   3976   0.113600  ...   0.236282  0.006637  0.000828\n",
              "Totals                  35000   1.000000  ...             0.024176  0.003013\n",
              "\n",
              "[10 rows x 9 columns]"
            ]
          },
          "metadata": {}
        },
        {
          "output_type": "display_data",
          "data": {
            "text/html": [
              "\n",
              "  <div id=\"df-b7d41f7d-bcb6-40f9-8067-c4892bb96481\">\n",
              "    <div class=\"colab-df-container\">\n",
              "      <div>\n",
              "<style scoped>\n",
              "    .dataframe tbody tr th:only-of-type {\n",
              "        vertical-align: middle;\n",
              "    }\n",
              "\n",
              "    .dataframe tbody tr th {\n",
              "        vertical-align: top;\n",
              "    }\n",
              "\n",
              "    .dataframe thead th {\n",
              "        text-align: right;\n",
              "    }\n",
              "</style>\n",
              "<table border=\"1\" class=\"dataframe\">\n",
              "  <thead>\n",
              "    <tr style=\"text-align: right;\">\n",
              "      <th></th>\n",
              "      <th>Bin</th>\n",
              "      <th>Count</th>\n",
              "      <th>Count (%)</th>\n",
              "      <th>Non-event</th>\n",
              "      <th>Event</th>\n",
              "      <th>Event rate</th>\n",
              "      <th>WoE</th>\n",
              "      <th>IV</th>\n",
              "      <th>JS</th>\n",
              "    </tr>\n",
              "  </thead>\n",
              "  <tbody>\n",
              "    <tr>\n",
              "      <th>0</th>\n",
              "      <td>(-inf, -27.50)</td>\n",
              "      <td>1780</td>\n",
              "      <td>0.050857</td>\n",
              "      <td>644</td>\n",
              "      <td>1136</td>\n",
              "      <td>0.638202</td>\n",
              "      <td>0.317291</td>\n",
              "      <td>0.005433</td>\n",
              "      <td>6.762564e-04</td>\n",
              "    </tr>\n",
              "    <tr>\n",
              "      <th>1</th>\n",
              "      <td>[-27.50, inf)</td>\n",
              "      <td>33217</td>\n",
              "      <td>0.949057</td>\n",
              "      <td>9581</td>\n",
              "      <td>23636</td>\n",
              "      <td>0.711563</td>\n",
              "      <td>-0.0181278</td>\n",
              "      <td>0.000311</td>\n",
              "      <td>3.883657e-05</td>\n",
              "    </tr>\n",
              "    <tr>\n",
              "      <th>2</th>\n",
              "      <td>Special</td>\n",
              "      <td>0</td>\n",
              "      <td>0.000000</td>\n",
              "      <td>0</td>\n",
              "      <td>0</td>\n",
              "      <td>0.000000</td>\n",
              "      <td>0</td>\n",
              "      <td>0.000000</td>\n",
              "      <td>0.000000e+00</td>\n",
              "    </tr>\n",
              "    <tr>\n",
              "      <th>3</th>\n",
              "      <td>Missing</td>\n",
              "      <td>3</td>\n",
              "      <td>0.000086</td>\n",
              "      <td>1</td>\n",
              "      <td>2</td>\n",
              "      <td>0.666667</td>\n",
              "      <td>0.191714</td>\n",
              "      <td>0.000003</td>\n",
              "      <td>4.082088e-07</td>\n",
              "    </tr>\n",
              "    <tr>\n",
              "      <th>Totals</th>\n",
              "      <td></td>\n",
              "      <td>35000</td>\n",
              "      <td>1.000000</td>\n",
              "      <td>10226</td>\n",
              "      <td>24774</td>\n",
              "      <td>0.707829</td>\n",
              "      <td></td>\n",
              "      <td>0.005747</td>\n",
              "      <td>7.155012e-04</td>\n",
              "    </tr>\n",
              "  </tbody>\n",
              "</table>\n",
              "</div>\n",
              "      <button class=\"colab-df-convert\" onclick=\"convertToInteractive('df-b7d41f7d-bcb6-40f9-8067-c4892bb96481')\"\n",
              "              title=\"Convert this dataframe to an interactive table.\"\n",
              "              style=\"display:none;\">\n",
              "        \n",
              "  <svg xmlns=\"http://www.w3.org/2000/svg\" height=\"24px\"viewBox=\"0 0 24 24\"\n",
              "       width=\"24px\">\n",
              "    <path d=\"M0 0h24v24H0V0z\" fill=\"none\"/>\n",
              "    <path d=\"M18.56 5.44l.94 2.06.94-2.06 2.06-.94-2.06-.94-.94-2.06-.94 2.06-2.06.94zm-11 1L8.5 8.5l.94-2.06 2.06-.94-2.06-.94L8.5 2.5l-.94 2.06-2.06.94zm10 10l.94 2.06.94-2.06 2.06-.94-2.06-.94-.94-2.06-.94 2.06-2.06.94z\"/><path d=\"M17.41 7.96l-1.37-1.37c-.4-.4-.92-.59-1.43-.59-.52 0-1.04.2-1.43.59L10.3 9.45l-7.72 7.72c-.78.78-.78 2.05 0 2.83L4 21.41c.39.39.9.59 1.41.59.51 0 1.02-.2 1.41-.59l7.78-7.78 2.81-2.81c.8-.78.8-2.07 0-2.86zM5.41 20L4 18.59l7.72-7.72 1.47 1.35L5.41 20z\"/>\n",
              "  </svg>\n",
              "      </button>\n",
              "      \n",
              "  <style>\n",
              "    .colab-df-container {\n",
              "      display:flex;\n",
              "      flex-wrap:wrap;\n",
              "      gap: 12px;\n",
              "    }\n",
              "\n",
              "    .colab-df-convert {\n",
              "      background-color: #E8F0FE;\n",
              "      border: none;\n",
              "      border-radius: 50%;\n",
              "      cursor: pointer;\n",
              "      display: none;\n",
              "      fill: #1967D2;\n",
              "      height: 32px;\n",
              "      padding: 0 0 0 0;\n",
              "      width: 32px;\n",
              "    }\n",
              "\n",
              "    .colab-df-convert:hover {\n",
              "      background-color: #E2EBFA;\n",
              "      box-shadow: 0px 1px 2px rgba(60, 64, 67, 0.3), 0px 1px 3px 1px rgba(60, 64, 67, 0.15);\n",
              "      fill: #174EA6;\n",
              "    }\n",
              "\n",
              "    [theme=dark] .colab-df-convert {\n",
              "      background-color: #3B4455;\n",
              "      fill: #D2E3FC;\n",
              "    }\n",
              "\n",
              "    [theme=dark] .colab-df-convert:hover {\n",
              "      background-color: #434B5C;\n",
              "      box-shadow: 0px 1px 3px 1px rgba(0, 0, 0, 0.15);\n",
              "      filter: drop-shadow(0px 1px 2px rgba(0, 0, 0, 0.3));\n",
              "      fill: #FFFFFF;\n",
              "    }\n",
              "  </style>\n",
              "\n",
              "      <script>\n",
              "        const buttonEl =\n",
              "          document.querySelector('#df-b7d41f7d-bcb6-40f9-8067-c4892bb96481 button.colab-df-convert');\n",
              "        buttonEl.style.display =\n",
              "          google.colab.kernel.accessAllowed ? 'block' : 'none';\n",
              "\n",
              "        async function convertToInteractive(key) {\n",
              "          const element = document.querySelector('#df-b7d41f7d-bcb6-40f9-8067-c4892bb96481');\n",
              "          const dataTable =\n",
              "            await google.colab.kernel.invokeFunction('convertToInteractive',\n",
              "                                                     [key], {});\n",
              "          if (!dataTable) return;\n",
              "\n",
              "          const docLinkHtml = 'Like what you see? Visit the ' +\n",
              "            '<a target=\"_blank\" href=https://colab.research.google.com/notebooks/data_table.ipynb>data table notebook</a>'\n",
              "            + ' to learn more about interactive tables.';\n",
              "          element.innerHTML = '';\n",
              "          dataTable['output_type'] = 'display_data';\n",
              "          await google.colab.output.renderOutput(dataTable, element);\n",
              "          const docLink = document.createElement('div');\n",
              "          docLink.innerHTML = docLinkHtml;\n",
              "          element.appendChild(docLink);\n",
              "        }\n",
              "      </script>\n",
              "    </div>\n",
              "  </div>\n",
              "  "
            ],
            "text/plain": [
              "                   Bin  Count  Count (%)  ...        WoE        IV            JS\n",
              "0       (-inf, -27.50)   1780   0.050857  ...   0.317291  0.005433  6.762564e-04\n",
              "1        [-27.50, inf)  33217   0.949057  ... -0.0181278  0.000311  3.883657e-05\n",
              "2              Special      0   0.000000  ...          0  0.000000  0.000000e+00\n",
              "3              Missing      3   0.000086  ...   0.191714  0.000003  4.082088e-07\n",
              "Totals                  35000   1.000000  ...             0.005747  7.155012e-04\n",
              "\n",
              "[5 rows x 9 columns]"
            ]
          },
          "metadata": {}
        }
      ]
    },
    {
      "cell_type": "markdown",
      "source": [
        "Notemos que en todas las tablas, excepto la última, tenemos un IV total mayor al 2%. La última tabla que representa el comp_externo3, representa menos del 0.5747%, lo cual es una variable predicadora muy débil pero aún así decidimos no eliminarla para no tener pocas variables."
      ],
      "metadata": {
        "id": "ky4DyHjQDCTY"
      }
    },
    {
      "cell_type": "code",
      "source": [
        "comp_interno1_table.plot(metric=\"event_rate\")\n",
        "comp_interno1_table.plot(metric=\"woe\")"
      ],
      "metadata": {
        "id": "MbjPH8I64ap5",
        "colab": {
          "base_uri": "https://localhost:8080/",
          "height": 695
        },
        "outputId": "e10a71d6-580d-4377-8230-b15544599afb"
      },
      "execution_count": null,
      "outputs": [
        {
          "output_type": "display_data",
          "data": {
            "image/png": "[encoded data removed]",
            "text/plain": [
              "<Figure size 432x288 with 2 Axes>"
            ]
          },
          "metadata": {
            "needs_background": "light"
          }
        },
        {
          "output_type": "display_data",
          "data": {
            "image/png": "[encoded data removed]",
            "text/plain": [
              "<Figure size 432x288 with 2 Axes>"
            ]
          },
          "metadata": {
            "needs_background": "light"
          }
        }
      ]
    },
    {
      "cell_type": "code",
      "source": [
        "comp_interno3_table.plot(metric=\"event_rate\")\n",
        "comp_interno3_table.plot(metric=\"woe\")"
      ],
      "metadata": {
        "id": "uIKbCgHH4hSN",
        "colab": {
          "base_uri": "https://localhost:8080/",
          "height": 695
        },
        "outputId": "2134d441-03de-41ad-cc5c-f5e083ba8bc3"
      },
      "execution_count": null,
      "outputs": [
        {
          "output_type": "display_data",
          "data": {
            "image/png": "[encoded data removed]",
            "text/plain": [
              "<Figure size 432x288 with 2 Axes>"
            ]
          },
          "metadata": {
            "needs_background": "light"
          }
        },
        {
          "output_type": "display_data",
          "data": {
            "image/png": "[encoded data removed]",
            "text/plain": [
              "<Figure size 432x288 with 2 Axes>"
            ]
          },
          "metadata": {
            "needs_background": "light"
          }
        }
      ]
    },
    {
      "cell_type": "code",
      "source": [
        "comp_externo1_table.plot(metric=\"event_rate\")\n",
        "comp_externo1_table.plot(metric=\"woe\")"
      ],
      "metadata": {
        "id": "-XKV5ccu7OyN",
        "colab": {
          "base_uri": "https://localhost:8080/",
          "height": 695
        },
        "outputId": "2c5ccb1e-2503-4f84-971c-e709f3de79cc"
      },
      "execution_count": null,
      "outputs": [
        {
          "output_type": "display_data",
          "data": {
            "image/png": "[encoded data removed]",
            "text/plain": [
              "<Figure size 432x288 with 2 Axes>"
            ]
          },
          "metadata": {
            "needs_background": "light"
          }
        },
        {
          "output_type": "display_data",
          "data": {
            "image/png": "[encoded data removed]",
            "text/plain": [
              "<Figure size 432x288 with 2 Axes>"
            ]
          },
          "metadata": {
            "needs_background": "light"
          }
        }
      ]
    },
    {
      "cell_type": "code",
      "source": [
        "comp_externo2_table.plot(metric=\"event_rate\")\n",
        "comp_externo2_table.plot(metric=\"woe\")"
      ],
      "metadata": {
        "id": "WwF9_Ebk4oCN",
        "colab": {
          "base_uri": "https://localhost:8080/",
          "height": 695
        },
        "outputId": "0c08394e-f070-4afe-89ef-79ba48ee7681"
      },
      "execution_count": null,
      "outputs": [
        {
          "output_type": "display_data",
          "data": {
            "image/png": "[encoded data removed]",
            "text/plain": [
              "<Figure size 432x288 with 2 Axes>"
            ]
          },
          "metadata": {
            "needs_background": "light"
          }
        },
        {
          "output_type": "display_data",
          "data": {
            "image/png": "[encoded data removed]",
            "text/plain": [
              "<Figure size 432x288 with 2 Axes>"
            ]
          },
          "metadata": {
            "needs_background": "light"
          }
        }
      ]
    },
    {
      "cell_type": "code",
      "source": [
        "comp_externo3_table.plot(metric=\"event_rate\")\n",
        "comp_externo3_table.plot(metric=\"woe\")"
      ],
      "metadata": {
        "id": "P-IuMUGT7zw8",
        "colab": {
          "base_uri": "https://localhost:8080/",
          "height": 695
        },
        "outputId": "1e36a58d-819e-49c7-b334-648d514cc98a"
      },
      "execution_count": null,
      "outputs": [
        {
          "output_type": "display_data",
          "data": {
            "image/png": "[encoded data removed]",
            "text/plain": [
              "<Figure size 432x288 with 2 Axes>"
            ]
          },
          "metadata": {
            "needs_background": "light"
          }
        },
        {
          "output_type": "display_data",
          "data": {
            "image/png": "[encoded data removed]",
            "text/plain": [
              "<Figure size 432x288 with 2 Axes>"
            ]
          },
          "metadata": {
            "needs_background": "light"
          }
        }
      ]
    },
    {
      "cell_type": "code",
      "source": [
        "train[\"woe_comp_interno1\"] = optb_comp_interno1.transform(train[\"comp_interno1\"], metric=\"woe\")\n",
        "train[\"woe_comp_interno3\"] = optb_comp_interno3.transform(train[\"comp_interno3\"], metric=\"woe\")\n",
        "train[\"woe_comp_externo1\"] = optb_comp_externo1.transform(train[\"comp_externo1\"], metric=\"woe\")\n",
        "train[\"woe_comp_externo2\"] = optb_comp_externo2.transform(train[\"comp_externo2\"], metric=\"woe\")\n",
        "train[\"woe_comp_externo3\"] = optb_comp_externo3.transform(train[\"comp_externo3\"], metric=\"woe\")\n"
      ],
      "metadata": {
        "id": "viXgocjmEsaG"
      },
      "execution_count": null,
      "outputs": []
    },
    {
      "cell_type": "code",
      "source": [
        "train.info()"
      ],
      "metadata": {
        "colab": {
          "base_uri": "https://localhost:8080/"
        },
        "id": "6Z43VVniFJCy",
        "outputId": "9b7f2167-f34b-4290-d027-aa595214aae5"
      },
      "execution_count": null,
      "outputs": [
        {
          "output_type": "stream",
          "name": "stdout",
          "text": [
            "<class 'pandas.core.frame.DataFrame'>\n",
            "Int64Index: 35000 entries, 48824 to 38408\n",
            "Data columns (total 11 columns):\n",
            " #   Column             Non-Null Count  Dtype  \n",
            "---  ------             --------------  -----  \n",
            " 0   comp_interno1      35000 non-null  float64\n",
            " 1   comp_interno3      35000 non-null  float64\n",
            " 2   comp_externo1      33462 non-null  float64\n",
            " 3   comp_externo2      31024 non-null  float64\n",
            " 4   comp_externo3      34997 non-null  float64\n",
            " 5   target             35000 non-null  int64  \n",
            " 6   woe_comp_interno1  35000 non-null  float64\n",
            " 7   woe_comp_interno3  35000 non-null  float64\n",
            " 8   woe_comp_externo1  35000 non-null  float64\n",
            " 9   woe_comp_externo2  35000 non-null  float64\n",
            " 10  woe_comp_externo3  35000 non-null  float64\n",
            "dtypes: float64(10), int64(1)\n",
            "memory usage: 3.2 MB\n"
          ]
        }
      ]
    },
    {
      "cell_type": "code",
      "source": [
        "corr = train.iloc[:,6:].corr()\n",
        "\n",
        "\n",
        "xticks = list(corr.index)  \n",
        "yticks = list(corr.index)  \n",
        "fig = plt.figure(figsize=(10,10))\n",
        "ax1 = fig.add_subplot(1, 1, 1)\n",
        "\n",
        "sns.heatmap(corr,annot=True,cmap=\"rainbow\",ax=ax1,linewidths=.5,annot_kws={'size':9,'weight':'bold', 'color':'k'})\n",
        "ax1.set_xticklabels(xticks, rotation=30, fontsize=10)\n",
        "ax1.set_yticklabels(yticks, rotation=0, fontsize=10)\n",
        "plt.show()"
      ],
      "metadata": {
        "colab": {
          "base_uri": "https://localhost:8080/",
          "height": 646
        },
        "id": "U2smhZxEFcNg",
        "outputId": "f926af49-488f-46a1-92b5-f433a1fc9518"
      },
      "execution_count": null,
      "outputs": [
        {
          "output_type": "display_data",
          "data": {
            "image/png": "[encoded data removed]",
            "text/plain": [
              "<Figure size 720x720 with 2 Axes>"
            ]
          },
          "metadata": {
            "needs_background": "light"
          }
        }
      ]
    },
    {
      "cell_type": "code",
      "source": [
        "X_woe_train=train.iloc[:,6:10]\n",
        "y_train=train.iloc[:,5]\n",
        "X_woe_train.head()"
      ],
      "metadata": {
        "colab": {
          "base_uri": "https://localhost:8080/",
          "height": 206
        },
        "id": "JvL5Lr2xGNUb",
        "outputId": "b3a5e0a9-e73e-420f-810f-3bcfe45798bc"
      },
      "execution_count": null,
      "outputs": [
        {
          "output_type": "execute_result",
          "data": {
            "text/html": [
              "\n",
              "  <div id=\"df-1e72504f-5ac0-47a8-a30f-1c19f4e49b0c\">\n",
              "    <div class=\"colab-df-container\">\n",
              "      <div>\n",
              "<style scoped>\n",
              "    .dataframe tbody tr th:only-of-type {\n",
              "        vertical-align: middle;\n",
              "    }\n",
              "\n",
              "    .dataframe tbody tr th {\n",
              "        vertical-align: top;\n",
              "    }\n",
              "\n",
              "    .dataframe thead th {\n",
              "        text-align: right;\n",
              "    }\n",
              "</style>\n",
              "<table border=\"1\" class=\"dataframe\">\n",
              "  <thead>\n",
              "    <tr style=\"text-align: right;\">\n",
              "      <th></th>\n",
              "      <th>woe_comp_interno1</th>\n",
              "      <th>woe_comp_interno3</th>\n",
              "      <th>woe_comp_externo1</th>\n",
              "      <th>woe_comp_externo2</th>\n",
              "    </tr>\n",
              "  </thead>\n",
              "  <tbody>\n",
              "    <tr>\n",
              "      <th>48824</th>\n",
              "      <td>0.128793</td>\n",
              "      <td>-0.104585</td>\n",
              "      <td>-0.128896</td>\n",
              "      <td>-0.067115</td>\n",
              "    </tr>\n",
              "    <tr>\n",
              "      <th>2704</th>\n",
              "      <td>0.128793</td>\n",
              "      <td>-0.605383</td>\n",
              "      <td>0.082671</td>\n",
              "      <td>0.206432</td>\n",
              "    </tr>\n",
              "    <tr>\n",
              "      <th>25631</th>\n",
              "      <td>-0.241589</td>\n",
              "      <td>0.053525</td>\n",
              "      <td>0.103172</td>\n",
              "      <td>0.045070</td>\n",
              "    </tr>\n",
              "    <tr>\n",
              "      <th>7285</th>\n",
              "      <td>-0.118783</td>\n",
              "      <td>-0.605383</td>\n",
              "      <td>0.082671</td>\n",
              "      <td>0.206432</td>\n",
              "    </tr>\n",
              "    <tr>\n",
              "      <th>27346</th>\n",
              "      <td>-0.241589</td>\n",
              "      <td>0.053525</td>\n",
              "      <td>-0.121205</td>\n",
              "      <td>-0.067115</td>\n",
              "    </tr>\n",
              "  </tbody>\n",
              "</table>\n",
              "</div>\n",
              "      <button class=\"colab-df-convert\" onclick=\"convertToInteractive('df-1e72504f-5ac0-47a8-a30f-1c19f4e49b0c')\"\n",
              "              title=\"Convert this dataframe to an interactive table.\"\n",
              "              style=\"display:none;\">\n",
              "        \n",
              "  <svg xmlns=\"http://www.w3.org/2000/svg\" height=\"24px\"viewBox=\"0 0 24 24\"\n",
              "       width=\"24px\">\n",
              "    <path d=\"M0 0h24v24H0V0z\" fill=\"none\"/>\n",
              "    <path d=\"M18.56 5.44l.94 2.06.94-2.06 2.06-.94-2.06-.94-.94-2.06-.94 2.06-2.06.94zm-11 1L8.5 8.5l.94-2.06 2.06-.94-2.06-.94L8.5 2.5l-.94 2.06-2.06.94zm10 10l.94 2.06.94-2.06 2.06-.94-2.06-.94-.94-2.06-.94 2.06-2.06.94z\"/><path d=\"M17.41 7.96l-1.37-1.37c-.4-.4-.92-.59-1.43-.59-.52 0-1.04.2-1.43.59L10.3 9.45l-7.72 7.72c-.78.78-.78 2.05 0 2.83L4 21.41c.39.39.9.59 1.41.59.51 0 1.02-.2 1.41-.59l7.78-7.78 2.81-2.81c.8-.78.8-2.07 0-2.86zM5.41 20L4 18.59l7.72-7.72 1.47 1.35L5.41 20z\"/>\n",
              "  </svg>\n",
              "      </button>\n",
              "      \n",
              "  <style>\n",
              "    .colab-df-container {\n",
              "      display:flex;\n",
              "      flex-wrap:wrap;\n",
              "      gap: 12px;\n",
              "    }\n",
              "\n",
              "    .colab-df-convert {\n",
              "      background-color: #E8F0FE;\n",
              "      border: none;\n",
              "      border-radius: 50%;\n",
              "      cursor: pointer;\n",
              "      display: none;\n",
              "      fill: #1967D2;\n",
              "      height: 32px;\n",
              "      padding: 0 0 0 0;\n",
              "      width: 32px;\n",
              "    }\n",
              "\n",
              "    .colab-df-convert:hover {\n",
              "      background-color: #E2EBFA;\n",
              "      box-shadow: 0px 1px 2px rgba(60, 64, 67, 0.3), 0px 1px 3px 1px rgba(60, 64, 67, 0.15);\n",
              "      fill: #174EA6;\n",
              "    }\n",
              "\n",
              "    [theme=dark] .colab-df-convert {\n",
              "      background-color: #3B4455;\n",
              "      fill: #D2E3FC;\n",
              "    }\n",
              "\n",
              "    [theme=dark] .colab-df-convert:hover {\n",
              "      background-color: #434B5C;\n",
              "      box-shadow: 0px 1px 3px 1px rgba(0, 0, 0, 0.15);\n",
              "      filter: drop-shadow(0px 1px 2px rgba(0, 0, 0, 0.3));\n",
              "      fill: #FFFFFF;\n",
              "    }\n",
              "  </style>\n",
              "\n",
              "      <script>\n",
              "        const buttonEl =\n",
              "          document.querySelector('#df-1e72504f-5ac0-47a8-a30f-1c19f4e49b0c button.colab-df-convert');\n",
              "        buttonEl.style.display =\n",
              "          google.colab.kernel.accessAllowed ? 'block' : 'none';\n",
              "\n",
              "        async function convertToInteractive(key) {\n",
              "          const element = document.querySelector('#df-1e72504f-5ac0-47a8-a30f-1c19f4e49b0c');\n",
              "          const dataTable =\n",
              "            await google.colab.kernel.invokeFunction('convertToInteractive',\n",
              "                                                     [key], {});\n",
              "          if (!dataTable) return;\n",
              "\n",
              "          const docLinkHtml = 'Like what you see? Visit the ' +\n",
              "            '<a target=\"_blank\" href=https://colab.research.google.com/notebooks/data_table.ipynb>data table notebook</a>'\n",
              "            + ' to learn more about interactive tables.';\n",
              "          element.innerHTML = '';\n",
              "          dataTable['output_type'] = 'display_data';\n",
              "          await google.colab.output.renderOutput(dataTable, element);\n",
              "          const docLink = document.createElement('div');\n",
              "          docLink.innerHTML = docLinkHtml;\n",
              "          element.appendChild(docLink);\n",
              "        }\n",
              "      </script>\n",
              "    </div>\n",
              "  </div>\n",
              "  "
            ],
            "text/plain": [
              "       woe_comp_interno1  ...  woe_comp_externo2\n",
              "48824           0.128793  ...          -0.067115\n",
              "2704            0.128793  ...           0.206432\n",
              "25631          -0.241589  ...           0.045070\n",
              "7285           -0.118783  ...           0.206432\n",
              "27346          -0.241589  ...          -0.067115\n",
              "\n",
              "[5 rows x 4 columns]"
            ]
          },
          "metadata": {},
          "execution_count": 117
        }
      ]
    },
    {
      "cell_type": "code",
      "source": [
        "model=LogisticRegression()\n",
        "clf=model.fit(X_woe_train,y_train)"
      ],
      "metadata": {
        "id": "m39TNf9IGolX",
        "colab": {
          "base_uri": "https://localhost:8080/"
        },
        "outputId": "79fb5789-fe65-4fef-f5db-ada1b5beb9ad"
      },
      "execution_count": null,
      "outputs": [
        {
          "output_type": "execute_result",
          "data": {
            "text/plain": [
              "LogisticRegression()"
            ]
          },
          "metadata": {},
          "execution_count": 130
        }
      ]
    },
    {
      "cell_type": "code",
      "source": [
        "\n",
        "y_pred=clf.predict(X_woe_train)\n",
        "y_pred1=clf.decision_function(X_woe_train)\n",
        "print('y_pred\\n',y_pred)\n",
        "print('y_pred1\\n',y_pred1)\n",
        "\n",
        "#Draw ROC curve and calculate AUC value\n",
        "fpr,tpr,threshold = roc_curve(y_train, y_pred1)\n",
        "roc_auc = auc(fpr,tpr)\n",
        "plot(fpr,tpr,color='darkorange',\n",
        "         label='ROC curve (area = %0.2f)' % roc_auc)\n",
        "plt.plot([0, 1], [0, 1], color='navy', linestyle='--')\n",
        "plt.xlim([0.0, 1.0])\n",
        "plt.ylim([0.0, 1.0])\n",
        "plt.xlabel('False Positive Rate')\n",
        "plt.ylabel('True Positive Rate')\n",
        "plt.title('ROC_curve')\n",
        "plt.legend(loc=\"lower right\")\n",
        "plt.show()"
      ],
      "metadata": {
        "id": "Xe_Jh4ObGo-b",
        "colab": {
          "base_uri": "https://localhost:8080/",
          "height": 364
        },
        "outputId": "bcd8083b-29c0-4529-823e-3a53c832a6b5"
      },
      "execution_count": null,
      "outputs": [
        {
          "output_type": "stream",
          "name": "stdout",
          "text": [
            "y_pred\n",
            " [1 1 1 ... 1 1 1]\n",
            "y_pred1\n",
            " [0.98809448 1.3670441  0.93265641 ... 1.22698559 1.50707931 0.58485702]\n"
          ]
        },
        {
          "output_type": "display_data",
          "data": {
            "image/png": "[encoded data removed]",
            "text/plain": [
              "<Figure size 432x288 with 1 Axes>"
            ]
          },
          "metadata": {
            "needs_background": "light"
          }
        }
      ]
    },
    {
      "cell_type": "code",
      "source": [
        "coe=model.coef_\n",
        "coe[0]"
      ],
      "metadata": {
        "id": "dnrmmkkoGs4S",
        "colab": {
          "base_uri": "https://localhost:8080/"
        },
        "outputId": "d39b7ce5-d9f8-4db8-c038-9f4cd7a4eaf9"
      },
      "execution_count": null,
      "outputs": [
        {
          "output_type": "execute_result",
          "data": {
            "text/plain": [
              "array([-0.92697531, -1.05140492, -1.18377955,  0.37601118])"
            ]
          },
          "metadata": {},
          "execution_count": 121
        }
      ]
    },
    {
      "cell_type": "code",
      "source": [
        "f_train=train[[\"target\",\"woe_comp_interno1\",\"woe_comp_interno3\",\"woe_comp_externo1\",\"woe_comp_externo2\",\"woe_comp_externo3\"]]\n",
        "X_woe_train=f_train.iloc[:,1:]\n",
        "y_train=f_train.iloc[:,0]\n",
        "X_woe_train.head()\n",
        "model=LogisticRegression()\n",
        "clf=model.fit(X_woe_train,y_train)"
      ],
      "metadata": {
        "id": "War1VqtiGuSj"
      },
      "execution_count": null,
      "outputs": []
    },
    {
      "cell_type": "code",
      "source": [
        "coe=model.coef_\n",
        "coe[0]\n"
      ],
      "metadata": {
        "id": "q9smuFQ2Gupp",
        "colab": {
          "base_uri": "https://localhost:8080/"
        },
        "outputId": "0f56b5e4-a7ca-4113-f7c1-85c5cc346645"
      },
      "execution_count": null,
      "outputs": [
        {
          "output_type": "execute_result",
          "data": {
            "text/plain": [
              "array([-0.9190438 , -1.05697505, -1.16483468,  0.36940587, -0.89830207])"
            ]
          },
          "metadata": {},
          "execution_count": 124
        }
      ]
    },
    {
      "cell_type": "code",
      "source": [
        "hist(y_pred1,bins=100)\n",
        "\n"
      ],
      "metadata": {
        "id": "xKxk545sGx80",
        "colab": {
          "base_uri": "https://localhost:8080/",
          "height": 945
        },
        "outputId": "1a6e1406-a0bd-4067-eeb4-08343ba35c41"
      },
      "execution_count": null,
      "outputs": [
        {
          "output_type": "execute_result",
          "data": {
            "text/plain": [
              "(array([5.160e+02, 0.000e+00, 0.000e+00, 0.000e+00, 3.200e+01, 4.710e+02,\n",
              "        6.010e+02, 0.000e+00, 0.000e+00, 4.020e+02, 3.260e+02, 5.500e+01,\n",
              "        0.000e+00, 1.600e+02, 4.910e+02, 5.300e+02, 4.340e+02, 1.282e+03,\n",
              "        2.400e+01, 5.500e+01, 3.900e+02, 1.640e+03, 1.133e+03, 1.307e+03,\n",
              "        6.270e+02, 7.950e+02, 1.405e+03, 1.230e+02, 7.550e+02, 9.520e+02,\n",
              "        6.110e+02, 1.914e+03, 5.840e+02, 6.190e+02, 3.800e+02, 3.560e+02,\n",
              "        5.690e+02, 8.610e+02, 5.650e+02, 7.920e+02, 7.710e+02, 1.026e+03,\n",
              "        3.810e+02, 3.520e+02, 6.130e+02, 1.114e+03, 3.470e+02, 4.680e+02,\n",
              "        4.720e+02, 2.990e+02, 7.780e+02, 6.850e+02, 2.830e+02, 2.870e+02,\n",
              "        8.520e+02, 4.440e+02, 1.690e+02, 2.520e+02, 9.700e+01, 8.130e+02,\n",
              "        1.120e+02, 1.240e+02, 2.080e+02, 8.000e+01, 2.590e+02, 3.660e+02,\n",
              "        9.500e+01, 3.200e+01, 1.880e+02, 4.650e+02, 3.900e+01, 5.700e+01,\n",
              "        1.110e+02, 9.800e+01, 4.200e+01, 6.200e+01, 2.000e+01, 4.200e+01,\n",
              "        8.000e+00, 3.200e+01, 1.700e+01, 8.000e+00, 3.300e+01, 4.500e+01,\n",
              "        4.000e+01, 1.000e+01, 1.800e+01, 3.700e+01, 0.000e+00, 1.300e+01,\n",
              "        0.000e+00, 1.400e+01, 7.000e+00, 2.000e+00, 4.500e+01, 1.000e+00,\n",
              "        5.000e+00, 0.000e+00, 4.000e+00, 1.000e+00]),\n",
              " array([0.05699573, 0.08129039, 0.10558505, 0.1298797 , 0.15417436,\n",
              "        0.17846902, 0.20276368, 0.22705833, 0.25135299, 0.27564765,\n",
              "        0.2999423 , 0.32423696, 0.34853162, 0.37282627, 0.39712093,\n",
              "        0.42141559, 0.44571025, 0.4700049 , 0.49429956, 0.51859422,\n",
              "        0.54288887, 0.56718353, 0.59147819, 0.61577284, 0.6400675 ,\n",
              "        0.66436216, 0.68865682, 0.71295147, 0.73724613, 0.76154079,\n",
              "        0.78583544, 0.8101301 , 0.83442476, 0.85871942, 0.88301407,\n",
              "        0.90730873, 0.93160339, 0.95589804, 0.9801927 , 1.00448736,\n",
              "        1.02878201, 1.05307667, 1.07737133, 1.10166599, 1.12596064,\n",
              "        1.1502553 , 1.17454996, 1.19884461, 1.22313927, 1.24743393,\n",
              "        1.27172858, 1.29602324, 1.3203179 , 1.34461256, 1.36890721,\n",
              "        1.39320187, 1.41749653, 1.44179118, 1.46608584, 1.4903805 ,\n",
              "        1.51467515, 1.53896981, 1.56326447, 1.58755913, 1.61185378,\n",
              "        1.63614844, 1.6604431 , 1.68473775, 1.70903241, 1.73332707,\n",
              "        1.75762173, 1.78191638, 1.80621104, 1.8305057 , 1.85480035,\n",
              "        1.87909501, 1.90338967, 1.92768432, 1.95197898, 1.97627364,\n",
              "        2.0005683 , 2.02486295, 2.04915761, 2.07345227, 2.09774692,\n",
              "        2.12204158, 2.14633624, 2.17063089, 2.19492555, 2.21922021,\n",
              "        2.24351487, 2.26780952, 2.29210418, 2.31639884, 2.34069349,\n",
              "        2.36498815, 2.38928281, 2.41357746, 2.43787212, 2.46216678,\n",
              "        2.48646144]),\n",
              " <a list of 100 Patch objects>)"
            ]
          },
          "metadata": {},
          "execution_count": 125
        },
        {
          "output_type": "display_data",
          "data": {
            "image/png": "[encoded data removed]",
            "text/plain": [
              "<Figure size 432x288 with 1 Axes>"
            ]
          },
          "metadata": {
            "needs_background": "light"
          }
        }
      ]
    },
    {
      "cell_type": "code",
      "source": [
        "train.to_csv(\"bd_train.csv\",index=None) "
      ],
      "metadata": {
        "id": "GFY4ALY5Gzld"
      },
      "execution_count": null,
      "outputs": []
    },
    {
      "cell_type": "code",
      "source": [
        "coe[0][0]"
      ],
      "metadata": {
        "id": "t5qXNX8wG2Ac",
        "colab": {
          "base_uri": "https://localhost:8080/"
        },
        "outputId": "7dc36016-a3b3-43f7-da8e-68946f75a340"
      },
      "execution_count": null,
      "outputs": [
        {
          "output_type": "execute_result",
          "data": {
            "text/plain": [
              "-0.9190438011483187"
            ]
          },
          "metadata": {},
          "execution_count": 127
        }
      ]
    },
    {
      "cell_type": "code",
      "source": [
        "coe[0][1]"
      ],
      "metadata": {
        "id": "PzMb-kHJG3v4",
        "colab": {
          "base_uri": "https://localhost:8080/"
        },
        "outputId": "f82ffeda-b760-4628-d1ea-748f9b61a278"
      },
      "execution_count": null,
      "outputs": [
        {
          "output_type": "execute_result",
          "data": {
            "text/plain": [
              "-1.0569750508747446"
            ]
          },
          "metadata": {},
          "execution_count": 128
        }
      ]
    },
    {
      "cell_type": "code",
      "source": [
        "coe[0][2]"
      ],
      "metadata": {
        "id": "XJAw_JwGG6Pi",
        "colab": {
          "base_uri": "https://localhost:8080/"
        },
        "outputId": "d45915a9-6037-4ce5-81dd-1f3ab77d0cf4"
      },
      "execution_count": null,
      "outputs": [
        {
          "output_type": "execute_result",
          "data": {
            "text/plain": [
              "-1.1648346761164836"
            ]
          },
          "metadata": {},
          "execution_count": 129
        }
      ]
    },
    {
      "cell_type": "code",
      "source": [
        "from sklearn.model_selection import (GridSearchCV, cross_val_score,\n",
        "                                                 RandomizedSearchCV,\n",
        "                                                 cross_validate,\n",
        "                                                 StratifiedKFold)"
      ],
      "metadata": {
        "id": "5EaucvadO-ou"
      },
      "execution_count": null,
      "outputs": []
    },
    {
      "cell_type": "markdown",
      "source": [
        "Validación cruzada"
      ],
      "metadata": {
        "id": "4oVZvLDfQGAm"
      }
    },
    {
      "cell_type": "code",
      "source": [
        "cross_val_score(clf,X_woe_train,y_train,cv=5).mean()\n"
      ],
      "metadata": {
        "colab": {
          "base_uri": "https://localhost:8080/"
        },
        "id": "8tc2My2AOqH9",
        "outputId": "97e3172a-b6b6-4f09-f8af-ade6f1a457c5"
      },
      "execution_count": null,
      "outputs": [
        {
          "output_type": "execute_result",
          "data": {
            "text/plain": [
              "0.7072571428571429"
            ]
          },
          "metadata": {},
          "execution_count": 137
        }
      ]
    },
    {
      "cell_type": "code",
      "source": [
        "!pip install pydotplus"
      ],
      "metadata": {
        "colab": {
          "base_uri": "https://localhost:8080/"
        },
        "id": "u826DIkJZ00Y",
        "outputId": "d1ddb5e8-40e9-42f8-f391-a44000904ea3"
      },
      "execution_count": null,
      "outputs": [
        {
          "output_type": "stream",
          "name": "stdout",
          "text": [
            "Requirement already satisfied: pydotplus in /usr/local/lib/python3.7/dist-packages (2.0.2)\n",
            "Requirement already satisfied: pyparsing>=2.0.1 in /usr/local/lib/python3.7/dist-packages (from pydotplus) (3.0.6)\n"
          ]
        }
      ]
    },
    {
      "cell_type": "code",
      "source": [
        ""
      ],
      "metadata": {
        "id": "AWlcnYfEaED6"
      },
      "execution_count": null,
      "outputs": []
    },
    {
      "cell_type": "code",
      "source": [
        "import pandas as pd\n",
        "from sklearn.model_selection import train_test_split\n",
        "from sklearn.impute import SimpleImputer\n",
        "from sklearn.preprocessing import OneHotEncoder\n",
        "from sklearn.compose import ColumnTransformer\n",
        "from sklearn.pipeline import Pipeline\n",
        "from sklearn.tree import DecisionTreeClassifier, export_graphviz\n",
        "from sklearn import metrics\n",
        "from pylab import*\n",
        "import seaborn as sns\n",
        "import numpy as np\n"
      ],
      "metadata": {
        "id": "ty-zKsNEZu3f"
      },
      "execution_count": null,
      "outputs": []
    },
    {
      "cell_type": "code",
      "source": [
        "from sklearn.base import BaseEstimator, TransformerMixin"
      ],
      "metadata": {
        "id": "qK34jwcRYdpr"
      },
      "execution_count": null,
      "outputs": []
    },
    {
      "cell_type": "code",
      "source": [
        "def performance_evaluation_report(model, X_test, y_test, show_plot=False, labels=None, show_pr_curve=False):\n",
        "    '''\n",
        "    Function for creating a performance report of a classification model.\n",
        "    \n",
        "    Parameters\n",
        "    ----------\n",
        "    model : scikit-learn estimator\n",
        "        A fitted estimator for classification problems.\n",
        "    X_test : pd.DataFrame\n",
        "        DataFrame with features matching y_test\n",
        "    y_test : array/pd.Series\n",
        "        Target of a classification problem.\n",
        "    show_plot : bool\n",
        "        Flag whether to show the plot\n",
        "    labels : list\n",
        "        List with the class names.\n",
        "    show_pr_curve : bool\n",
        "        Flag whether to also show the PR-curve. For this to take effect, \n",
        "        show_plot must be True.\n",
        "        \n",
        "    Return\n",
        "    ------\n",
        "    stats : pd.Series\n",
        "        A series with the most important evaluation metrics\n",
        "    '''\n",
        "\n",
        "    y_pred = model.predict(X_test)\n",
        "    y_pred_prob = model.predict_proba(X_test)[:, 1]\n",
        "\n",
        "    cm = metrics.confusion_matrix(y_test, y_pred)\n",
        "    tn, fp, fn, tp = cm.ravel()\n",
        "\n",
        "    fpr, tpr, threshold = metrics.roc_curve(y_test, y_pred_prob)\n",
        "    roc_auc = metrics.auc(fpr, tpr)\n",
        "\n",
        "    precision, recall, thresholds = metrics.precision_recall_curve(\n",
        "        y_test, y_pred_prob)\n",
        "    pr_auc = metrics.auc(recall, precision)\n",
        "\n",
        "    if show_plot:\n",
        "\n",
        "        if labels is None:\n",
        "            labels = ['Negative', 'Positive']\n",
        "\n",
        "        N_SUBPLOTS = 3 if show_pr_curve else 2\n",
        "        PLOT_WIDTH = 15 if show_pr_curve else 12\n",
        "        PLOT_HEIGHT = 5 if show_pr_curve else 6\n",
        "\n",
        "        fig, ax = plt.subplots(\n",
        "            1, N_SUBPLOTS, figsize=(PLOT_WIDTH, PLOT_HEIGHT))\n",
        "        fig.suptitle('Performance Evaluation', fontsize=16)\n",
        "\n",
        "        sns.heatmap(cm, annot=True, fmt=\"d\", linewidths=.5, cmap='BuGn_r', square=True, cbar=False, ax=ax[0],\n",
        "                    annot_kws={\"ha\": 'center', \"va\": 'center'})\n",
        "        ax[0].set(xlabel='Predicted label',\n",
        "                  ylabel='Actual label', title='Confusion Matrix')\n",
        "        ax[0].xaxis.set_ticklabels(labels)\n",
        "        ax[0].yaxis.set_ticklabels(labels)\n",
        "\n",
        "        ax[1].plot(fpr, tpr, 'b-', label=f'ROC-AUC = {roc_auc:.2f}')\n",
        "        ax[1].set(xlabel='False Positive Rate',\n",
        "                  ylabel='True Positive Rate', title='ROC Curve')\n",
        "        ax[1].plot(fp/(fp+tn), tp/(tp+fn), 'ro',\n",
        "                   markersize=8, label='Decision Point')\n",
        "        ax[1].plot([0, 1], [0, 1], 'r--')\n",
        "        ax[1].legend(loc='lower right')\n",
        "\n",
        "        if show_pr_curve:\n",
        "\n",
        "            ax[2].plot(recall, precision, label=f'PR-AUC = {pr_auc:.2f}')\n",
        "            ax[2].set(xlabel='Recall', ylabel='Precision',\n",
        "                      title='Precision-Recall Curve')\n",
        "            ax[2].legend()\n",
        "\n",
        "#         print('#######################')\n",
        "#         print('Evaluation metrics ####')\n",
        "#         print('#######################')\n",
        "#         print(f'Accuracy: {metrics.accuracy_score(y_test, y_pred):.4f}')\n",
        "#         print(f'Precision: {metrics.precision_score(y_test, y_pred):.4f}')\n",
        "#         print(f'Recall (Sensitivity): {metrics.recall_score(y_test, y_pred):.4f}')\n",
        "#         print(f'Specificity: {(tn / (tn + fp)):.4f}')\n",
        "#         print(f'F1-Score: {metrics.f1_score(y_test, y_pred):.4f}')\n",
        "#         print(f\"Cohen's Kappa: {metrics.cohen_kappa_score(y_test, y_pred):.4f}\")\n",
        "\n",
        "    stats = {'accuracy': metrics.accuracy_score(y_test, y_pred),\n",
        "             'precision': metrics.precision_score(y_test, y_pred),\n",
        "             'recall': metrics.recall_score(y_test, y_pred),\n",
        "             'specificity': (tn / (tn + fp)),\n",
        "             'f1_score': metrics.f1_score(y_test, y_pred),\n",
        "             'cohens_kappa': metrics.cohen_kappa_score(y_test, y_pred),\n",
        "             'roc_auc': roc_auc,\n",
        "             'pr_auc': pr_auc}\n",
        "\n",
        "    return stats"
      ],
      "metadata": {
        "id": "yB4bhU9PaL4f"
      },
      "execution_count": null,
      "outputs": []
    },
    {
      "cell_type": "code",
      "source": [
        "X = bd.copy()\n",
        "y = X.pop('target')"
      ],
      "metadata": {
        "id": "ouQDExbpaMWI"
      },
      "execution_count": null,
      "outputs": []
    },
    {
      "cell_type": "code",
      "source": [
        "X_train, X_test, y_train, y_test = train_test_split(X, y,test_size=0.2,stratify=y)"
      ],
      "metadata": {
        "id": "nyTY1PnhaSig"
      },
      "execution_count": null,
      "outputs": []
    },
    {
      "cell_type": "code",
      "source": [
        "num_features = X_train.select_dtypes(include='number').columns.to_list()"
      ],
      "metadata": {
        "id": "9jgVpZ8NaUPh"
      },
      "execution_count": null,
      "outputs": []
    },
    {
      "cell_type": "code",
      "source": [
        "num_features"
      ],
      "metadata": {
        "colab": {
          "base_uri": "https://localhost:8080/"
        },
        "id": "i_qpMY3vaVFw",
        "outputId": "16414f58-defb-4d54-85f0-e59234680f16"
      },
      "execution_count": null,
      "outputs": [
        {
          "output_type": "execute_result",
          "data": {
            "text/plain": [
              "['comp_interno1',\n",
              " 'comp_interno3',\n",
              " 'comp_externo1',\n",
              " 'comp_externo2',\n",
              " 'comp_externo3']"
            ]
          },
          "metadata": {},
          "execution_count": 154
        }
      ]
    },
    {
      "cell_type": "code",
      "source": [
        "cat_features = X_train.select_dtypes(include='object').columns.to_list()"
      ],
      "metadata": {
        "id": "xMZx89-laWR5"
      },
      "execution_count": null,
      "outputs": []
    },
    {
      "cell_type": "code",
      "source": [
        "cat_features"
      ],
      "metadata": {
        "colab": {
          "base_uri": "https://localhost:8080/"
        },
        "id": "Xu65uxh-aYtu",
        "outputId": "08e4e720-d6ea-4cd1-cef3-34f53b77e8b0"
      },
      "execution_count": null,
      "outputs": [
        {
          "output_type": "execute_result",
          "data": {
            "text/plain": [
              "[]"
            ]
          },
          "metadata": {},
          "execution_count": 156
        }
      ]
    },
    {
      "cell_type": "code",
      "source": [
        "num_pipeline = Pipeline(steps=[('imputer', SimpleImputer(strategy='median'))])"
      ],
      "metadata": {
        "id": "fEHsBknwaaBR"
      },
      "execution_count": null,
      "outputs": []
    },
    {
      "cell_type": "code",
      "source": [
        "cat_list = [list(X_train[col].dropna().unique()) for col in cat_features]"
      ],
      "metadata": {
        "id": "G-yy1mojacT4"
      },
      "execution_count": null,
      "outputs": []
    },
    {
      "cell_type": "code",
      "source": [
        "cat_pipeline = Pipeline(steps=[('imputer', SimpleImputer(strategy='most_frequent')),\n",
        "                               ('onehot', OneHotEncoder(categories=cat_list, sparse=False,\n",
        "                                        handle_unknown='error', drop='first'))])"
      ],
      "metadata": {
        "id": "mujMnNYHaequ"
      },
      "execution_count": null,
      "outputs": []
    },
    {
      "cell_type": "code",
      "source": [
        "preprocessor = ColumnTransformer(transformers=[\n",
        "               ('numerical', num_pipeline, num_features),\n",
        "               ('categorical', cat_pipeline, cat_features)],\n",
        "               remainder='drop')\n",
        "#El remainder=drop es para eliminar la columna que no se le aplicó ninguna transformación"
      ],
      "metadata": {
        "id": "6ZUcEXZYaglF"
      },
      "execution_count": null,
      "outputs": []
    },
    {
      "cell_type": "code",
      "source": [
        "tree_pipeline = Pipeline(steps=[('preprocessor', preprocessor),('classifier', model)])"
      ],
      "metadata": {
        "id": "qekVNhYgajx3"
      },
      "execution_count": null,
      "outputs": []
    },
    {
      "cell_type": "code",
      "source": [
        "tree_pipeline.fit(X_train, y_train)"
      ],
      "metadata": {
        "colab": {
          "base_uri": "https://localhost:8080/"
        },
        "id": "KA7RyvL1cza_",
        "outputId": "0fd55bb2-bede-4dd5-f1e8-daf1acd2dd3f"
      },
      "execution_count": null,
      "outputs": [
        {
          "output_type": "execute_result",
          "data": {
            "text/plain": [
              "Pipeline(steps=[('preprocessor',\n",
              "                 ColumnTransformer(transformers=[('numerical',\n",
              "                                                  Pipeline(steps=[('imputer',\n",
              "                                                                   SimpleImputer(strategy='median'))]),\n",
              "                                                  ['comp_interno1',\n",
              "                                                   'comp_interno3',\n",
              "                                                   'comp_externo1',\n",
              "                                                   'comp_externo2',\n",
              "                                                   'comp_externo3']),\n",
              "                                                 ('categorical',\n",
              "                                                  Pipeline(steps=[('imputer',\n",
              "                                                                   SimpleImputer(strategy='most_frequent')),\n",
              "                                                                  ('onehot',\n",
              "                                                                   OneHotEncoder(categories=[],\n",
              "                                                                                 drop='first',\n",
              "                                                                                 sparse=False))]),\n",
              "                                                  [])])),\n",
              "                ('classifier', LogisticRegression())])"
            ]
          },
          "metadata": {},
          "execution_count": 164
        }
      ]
    },
    {
      "cell_type": "code",
      "source": [
        "LABELS = ['Bueno', 'Malo']\n",
        "tree_perf = performance_evaluation_report(tree_pipeline, X_test,y_test, labels=LABELS,show_plot=True)"
      ],
      "metadata": {
        "colab": {
          "base_uri": "https://localhost:8080/",
          "height": 431
        },
        "id": "WyGRaAHWdQ88",
        "outputId": "60094616-35df-4a83-b1e1-5ab81c5d77bd"
      },
      "execution_count": null,
      "outputs": [
        {
          "output_type": "display_data",
          "data": {
            "image/png": "[encoded data removed]",
            "text/plain": [
              "<Figure size 864x432 with 2 Axes>"
            ]
          },
          "metadata": {
            "needs_background": "light"
          }
        }
      ]
    },
    {
      "cell_type": "code",
      "source": [
        "from sklearn.base import BaseEstimator, TransformerMixin"
      ],
      "metadata": {
        "id": "OG1OGC5qdWkN"
      },
      "execution_count": null,
      "outputs": []
    },
    {
      "cell_type": "code",
      "source": [
        "class OutlierRemover(BaseEstimator, TransformerMixin):\n",
        "    def __init__(self, n_std=3):\n",
        "        self.n_std = n_std\n",
        "    \n",
        "    def fit(self, X, y = None):\n",
        "        if np.isnan(X).any(axis=None):\n",
        "            raise ValueError('''There are missing values in the array! \n",
        "                                Please remove them.''')\n",
        "\n",
        "        mean_vec = np.mean(X, axis=0)\n",
        "        std_vec = np.std(X, axis=0)\n",
        "        \n",
        "        self.upper_band_ = mean_vec + self.n_std * std_vec\n",
        "        self.lower_band_ = mean_vec - self.n_std * std_vec\n",
        "        self.n_features_ = len(self.upper_band_)\n",
        "        \n",
        "        return self \n",
        "    \n",
        "    def transform(self, X, y = None):\n",
        "        X_copy = pd.DataFrame(X.copy())\n",
        "        \n",
        "        upper_band = np.repeat(\n",
        "            self.upper_band_.reshape(self.n_features_, -1), \n",
        "            len(X_copy), \n",
        "            axis=1).transpose()\n",
        "        lower_band = np.repeat(\n",
        "            self.lower_band_.reshape(self.n_features_, -1), \n",
        "            len(X_copy), \n",
        "            axis=1).transpose()\n",
        "        \n",
        "        X_copy[X_copy >= upper_band] = upper_band\n",
        "        X_copy[X_copy <= lower_band] = lower_band\n",
        "        \n",
        "        return X_copy.values"
      ],
      "metadata": {
        "id": "Olq1YI9WYl8R"
      },
      "execution_count": null,
      "outputs": []
    },
    {
      "cell_type": "code",
      "source": [
        "from sklearn.model_selection import (GridSearchCV, cross_val_score,\n",
        "                                                 RandomizedSearchCV,\n",
        "                                                 cross_validate,\n",
        "                                                 StratifiedKFold)"
      ],
      "metadata": {
        "id": "lA6XVgSKZC0H"
      },
      "execution_count": null,
      "outputs": []
    },
    {
      "cell_type": "code",
      "source": [
        "param_grid = {'classifier__criterion': ['entropy', 'gini'],\n",
        "               'classifier__max_depth': range(3, 11),\n",
        "               'classifier__min_samples_leaf': range(2, 11)}\n"
      ],
      "metadata": {
        "id": "ndpbtEP4d2PV"
      },
      "execution_count": null,
      "outputs": []
    },
    {
      "cell_type": "code",
      "source": [
        "classifier_gs = GridSearchCV(tree_pipeline, param_grid,scoring='recall',cv=5, n_jobs=-1, verbose=1)\n",
        "classifier_gs.fit(X_train, y_train)\n",
        "#print(f'Best parameters: {classifier_gs.best_params_}')\n",
        "#print(f'Recall (Training set): {classifier_gs.best_score_:.4f}')\n",
        "#print(f'Recall (Test set): {metrics.recall_score(y_test,classifier_gs.predict(X_test)):.4f}')"
      ],
      "metadata": {
        "id": "-Nyn_SX5ZA8Q",
        "colab": {
          "base_uri": "https://localhost:8080/"
        },
        "outputId": "0b636153-fa5e-4ef6-8279-5f50ecbfdcc1"
      },
      "execution_count": null,
      "outputs": [
        {
          "output_type": "stream",
          "name": "stdout",
          "text": [
            "Fitting 5 folds for each of 144 candidates, totalling 720 fits\n"
          ]
        },
        {
          "output_type": "execute_result",
          "data": {
            "text/plain": [
              "GridSearchCV(cv=StratifiedKFold(n_splits=5, random_state=42, shuffle=True),\n",
              "             estimator=Pipeline(steps=[('preprocessor',\n",
              "                                        ColumnTransformer(transformers=[('numerical',\n",
              "                                                                         Pipeline(steps=[('imputer',\n",
              "                                                                                          SimpleImputer(strategy='median')),\n",
              "                                                                                         ('outliers',\n",
              "                                                                                          OutlierRemover())]),\n",
              "                                                                         ['comp_interno1',\n",
              "                                                                          'comp_interno3',\n",
              "                                                                          'comp_externo1',\n",
              "                                                                          'comp_externo2',\n",
              "                                                                          'comp_externo3']),\n",
              "                                                                        ('categorical',\n",
              "                                                                         Pipeline(steps=[('imputer',\n",
              "                                                                                          SimpleImputer(strategy='most_frequent')),\n",
              "                                                                                         ('onehot',\n",
              "                                                                                          OneHotEncoder(categories=[],\n",
              "                                                                                                        drop='first',\n",
              "                                                                                                        sparse=False))]),\n",
              "                                                                         [])])),\n",
              "                                       ('classifier',\n",
              "                                        DecisionTreeClassifier(random_state=42))]),\n",
              "             n_jobs=-1,\n",
              "             param_grid={'classifier__criterion': ['entropy', 'gini'],\n",
              "                         'classifier__max_depth': range(3, 11),\n",
              "                         'classifier__min_samples_leaf': range(2, 11)},\n",
              "             scoring='recall', verbose=1)"
            ]
          },
          "metadata": {},
          "execution_count": 173
        }
      ]
    },
    {
      "cell_type": "code",
      "source": [
        "print(f'Best parameters: {classifier_gs.best_params_}') \n",
        "print(f'Recall (Training set): {classifier_gs.best_score_:.4f}') \n",
        "print(f'Recall (Test set): {metrics.recall_score(y_test, classifier_gs.predict(X_test)):.4f}')"
      ],
      "metadata": {
        "colab": {
          "base_uri": "https://localhost:8080/"
        },
        "id": "9OyB--1ief3U",
        "outputId": "524181e6-ed3d-40da-c647-2605b46e2830"
      },
      "execution_count": null,
      "outputs": [
        {
          "output_type": "stream",
          "name": "stdout",
          "text": [
            "Best parameters: {'classifier__criterion': 'entropy', 'classifier__max_depth': 3, 'classifier__min_samples_leaf': 2}\n",
            "Recall (Training set): 1.0000\n",
            "Recall (Test set): 1.0000\n"
          ]
        }
      ]
    },
    {
      "cell_type": "markdown",
      "source": [
        "El mejor modelo es la regresión logistica Woe ya que tenemos una validación cruzada media de 0.7072 mientras que para el arbol de validación tenemos una media de 0.63"
      ],
      "metadata": {
        "id": "xE03u7QQPv_K"
      }
    }
  ],
  "metadata": {
    "kernelspec": {
      "display_name": "Python 3",
      "language": "python",
      "name": "python3"
    },
    "language_info": {
      "codemirror_mode": {
        "name": "ipython",
        "version": 3
      },
      "file_extension": ".py",
      "mimetype": "text/x-python",
      "name": "python",
      "nbconvert_exporter": "python",
      "pygments_lexer": "ipython3",
      "version": "3.8.3"
    },
    "colab": {
      "name": "Tarea 1.ipynb",
      "provenance": [],
      "collapsed_sections": []
    }
  },
  "nbformat": 4,
  "nbformat_minor": 0
}